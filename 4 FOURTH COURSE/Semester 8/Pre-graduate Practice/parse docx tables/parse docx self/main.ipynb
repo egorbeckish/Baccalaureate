{
  "cells": [
    {
      "cell_type": "code",
      "source": [
        "!pip install python-docx"
      ],
      "metadata": {
        "id": "LIZyOHLwj-td"
      },
      "execution_count": 58,
      "outputs": []
    },
    {
      "cell_type": "code",
      "source": [
        "import docx\n",
        "\n",
        "from docx import Document\n",
        "from docx.text.paragraph import Paragraph\n",
        "from docx.table import Table\n",
        "\n",
        "from docx.oxml.text.paragraph import CT_P as omxl_paragraph\n",
        "from docx.oxml.table import CT_Tbl as omxl_table\n",
        "from docx.oxml.section import CT_SectPr as omxl_section\n",
        "\n",
        "import regex"
      ],
      "metadata": {
        "id": "NHOvAysnviOv"
      },
      "execution_count": 2,
      "outputs": []
    },
    {
      "cell_type": "code",
      "source": [
        "def open_docx(path: str) -> Document:\n",
        "    \"\"\"\n",
        "    :params str path: Путь к файлу\n",
        "    :return Document: Объект docx\n",
        "    \"\"\"\n",
        "    return Document(path)"
      ],
      "metadata": {
        "id": "S4wqOo0lu29X"
      },
      "execution_count": 3,
      "outputs": []
    },
    {
      "cell_type": "code",
      "source": [
        "def get_body(document: Document) -> list[omxl_paragraph | omxl_table | omxl_section]:\n",
        "    \"\"\"\n",
        "    :params Document document: Объект docx\n",
        "    :return list[omxl_paragraph | omxl_table | omxl_section]: Список объектов находящийся в document\n",
        "    \"\"\"\n",
        "    return [element for element in document.element.body]"
      ],
      "metadata": {
        "id": "MJsogBPov5Ru"
      },
      "execution_count": 4,
      "outputs": []
    },
    {
      "cell_type": "code",
      "source": [
        "def convert_oxml_paragraph_to_text(paragraph: omxl_paragraph, document: Document) -> str:\n",
        "    \"\"\"\n",
        "    :params omxl_paragraph element: параграф oxml\n",
        "    :params Document document: документ, в котором находится данный параграф\n",
        "    :return str: текст параграфа\n",
        "    \"\"\"\n",
        "    return Paragraph(paragraph, document).text.lower()"
      ],
      "metadata": {
        "id": "9GK5pER51FyY"
      },
      "execution_count": 5,
      "outputs": []
    },
    {
      "cell_type": "code",
      "source": [
        "def join_title(paragraphs: list[omxl_paragraph], document: Document) -> str:\n",
        "    \"\"\"\n",
        "    :params list[omxl_paragraph] element: список параграфов oxml\n",
        "    :params Document document: документ, в котором находится данные параграфы\n",
        "    :return str: заголовок таблицы\n",
        "    \"\"\"\n",
        "    title = list(map(lambda x: convert_oxml_paragraph_to_text(x, document), paragraphs))\n",
        "    title[0] = f'{title[0]}.'\n",
        "    return ' '.join(title)"
      ],
      "metadata": {
        "id": "wBdIMRcC1bUm"
      },
      "execution_count": 6,
      "outputs": []
    },
    {
      "cell_type": "code",
      "source": [
        "def regex_title(text: str) -> bool:\n",
        "    \"\"\"\n",
        "    ...\n",
        "    \"\"\"\n",
        "    return regex.findall(r'таблица\\s[0-9]{1,}', text) != []"
      ],
      "metadata": {
        "id": "NAYIBVxr3_ag"
      },
      "execution_count": 7,
      "outputs": []
    },
    {
      "cell_type": "code",
      "source": [
        "def convert_text_to_oxml_paragraph(text: str) -> omxl_paragraph:\n",
        "    \"\"\"\n",
        "    :params str text: текст параграфа\n",
        "    :return omxl_paragraph: параграф oxml\n",
        "    \"\"\"\n",
        "\n",
        "    tmp_document = Document()\n",
        "    paragraph = tmp_document.add_paragraph(text)\n",
        "    return paragraph._element"
      ],
      "metadata": {
        "id": "pYXbOXxM1N7-"
      },
      "execution_count": 8,
      "outputs": []
    },
    {
      "cell_type": "code",
      "source": [
        "def convert_oxml_table_to_table(element: omxl_table, document: Document) -> Table:\n",
        "    \"\"\"\n",
        "    :params omxl_table element: таблица oxml\n",
        "    :return Table: объект таблица\n",
        "    \"\"\"\n",
        "    return Table(element, document)"
      ],
      "metadata": {
        "id": "sWe3CTioWMtu"
      },
      "execution_count": 9,
      "outputs": []
    },
    {
      "cell_type": "code",
      "source": [
        "def correct_space(data: list[str]) -> None:\n",
        "    \"\"\"\n",
        "    ...\n",
        "    \"\"\"\n",
        "    for index, value in enumerate(data):\n",
        "        data[index]: str = ' '.join(value.split())"
      ],
      "metadata": {
        "id": "sXDAYWSjOFiw"
      },
      "execution_count": 10,
      "outputs": []
    },
    {
      "cell_type": "code",
      "source": [
        "def find_title_repeat(title: list[str]) -> int | None:\n",
        "    for i in range(len(title)):\n",
        "        if title.count(title[i]) > 1:\n",
        "            return i"
      ],
      "metadata": {
        "id": "o2opp6dji2Q3"
      },
      "execution_count": 11,
      "outputs": []
    },
    {
      "cell_type": "code",
      "source": [
        "def get_table(table: Table) -> list[list[str]]:\n",
        "    \"\"\"\n",
        "    ...\n",
        "    \"\"\"\n",
        "    table: list[list[str]] = [[cell.text for cell in row.cells] for row in table.rows]\n",
        "    index: int | None = find_title_repeat(table[0])\n",
        "    for row in table:\n",
        "        correct_space(row)\n",
        "        if index:\n",
        "            row.pop(index)\n",
        "\n",
        "    return table"
      ],
      "metadata": {
        "id": "qfqMcMYbZhR2"
      },
      "execution_count": 12,
      "outputs": []
    },
    {
      "cell_type": "code",
      "source": [
        "def get_tables(body: list[omxl_paragraph | omxl_table | omxl_section], document: Document) -> dict[str: Table]:\n",
        "    \"\"\"\n",
        "    ...\n",
        "    \"\"\"\n",
        "\n",
        "    i: int = 0\n",
        "    tables: dict[str: omxl_table] = {}\n",
        "    while len(body) > i:\n",
        "        element: omxl_paragraph | omxl_table = body[i]\n",
        "\n",
        "        if isinstance(element, omxl_paragraph):\n",
        "            text: str = convert_oxml_paragraph_to_text(element, document)\n",
        "            if regex_title(text):\n",
        "                tmp_body: list[omxl_paragraph | omxl_table] = body[i + 1:]\n",
        "                for j, el in enumerate(tmp_body):\n",
        "                    if isinstance(el, omxl_table):\n",
        "                        title: str = join_title([element] + tmp_body[:j], document)\n",
        "                        table: Table = convert_oxml_table_to_table(el, document)\n",
        "                        tables[title]: Table = table\n",
        "\n",
        "                        # new_body += [convert_text_to_paragraph(title), el]\n",
        "\n",
        "                        i += j\n",
        "                        break\n",
        "\n",
        "            else:\n",
        "                i += 1\n",
        "\n",
        "        else:\n",
        "            i += 1\n",
        "\n",
        "    return tables"
      ],
      "metadata": {
        "id": "Xqq_u-JnzAgf"
      },
      "execution_count": 13,
      "outputs": []
    },
    {
      "cell_type": "code",
      "source": [
        "def name_tables(tables: dict[str: Table]) -> list[str]:\n",
        "    \"\"\"\n",
        "    \"\"\"\n",
        "    return list(tables.keys())"
      ],
      "metadata": {
        "id": "rzI5QMl4fBOS"
      },
      "execution_count": 14,
      "outputs": []
    },
    {
      "cell_type": "code",
      "source": [
        "def gauss(table: list[list[str]]):\n",
        "    for i, row in enumerate(table):\n",
        "        row_isdigit: list[bool] = list(map(lambda x: x.isdigit(), row))\n",
        "        if all(row_isdigit):\n",
        "            length_row: int = len(row)\n",
        "            if sum(map(int, row)) == (length_row * (length_row + 1)) / 2 and length_row == len(set(row)):\n",
        "                return i"
      ],
      "metadata": {
        "id": "d3MxYifRfiKn"
      },
      "execution_count": 15,
      "outputs": []
    },
    {
      "cell_type": "code",
      "source": [
        "def count_columns(table: list[list[str]]) -> int:\n",
        "    \"\"\"\n",
        "    \"\"\"\n",
        "    return len(table[gauss(table)])"
      ],
      "metadata": {
        "id": "Oa0ecmcLcpIm"
      },
      "execution_count": 16,
      "outputs": []
    },
    {
      "cell_type": "code",
      "source": [
        "def count_rows(table: list[list[str]]) -> int:\n",
        "    \"\"\"\n",
        "    \"\"\"\n",
        "    return len(table)"
      ],
      "metadata": {
        "id": "NEuuQpyfdNve"
      },
      "execution_count": 17,
      "outputs": []
    },
    {
      "cell_type": "code",
      "source": [
        "def get_maxim_length_columns(table: list[list[str]], rows: int, columns: int) -> dict:\n",
        "\tmaxim_lenght_columns = dict()\n",
        "\n",
        "\tfor i in range(columns):\n",
        "\t\tmaxim_lenght = 0\n",
        "\t\tfor j in range(rows):\n",
        "\t\t\tmaxim_lenght = max(maxim_lenght, len(table[j][i]))\n",
        "\t\t\tmaxim_lenght_columns[f\"столбец_{i + 1}\"] = maxim_lenght\n",
        "\n",
        "\treturn maxim_lenght_columns"
      ],
      "metadata": {
        "id": "mTC68pKAlXMQ"
      },
      "execution_count": 18,
      "outputs": []
    },
    {
      "cell_type": "code",
      "source": [
        "def format_values_table(table: list, rows: int, columns: int) -> tuple:\n",
        "\tlenght_columns = get_maxim_length_columns(table, rows, columns)\n",
        "\tfor i in range(columns):\n",
        "\t\tformat_length = lenght_columns[f\"столбец_{i + 1}\"]\n",
        "\t\tformat_length = format_length + 9 if format_length % 2 else format_length + 8\n",
        "\t\tfor j in range(rows):\n",
        "\t\t\ttable[j][i] = f\"{table[j][i]:^{format_length}}\"\n",
        "\n",
        "\treturn table[0], table[1:]"
      ],
      "metadata": {
        "id": "JN5Bhj2Elvgx"
      },
      "execution_count": 19,
      "outputs": []
    },
    {
      "cell_type": "code",
      "source": [
        "def format_title(title: list) -> str:\n",
        "\treturn f\"|{'|'.join(title)}|\"\n",
        "\n",
        "\n",
        "def format_sep_title(title: list) -> str:\n",
        "\treturn f\"+{(len(format_title(title)) - 2) * '-'}+\"\n",
        "\n",
        "\n",
        "def format_values(title: list, values: list) -> str:\n",
        "\treturn (\"\\n\" + format_sep_title(title).replace('+', '-') + \"\\n\").join(map(lambda x: format_title(x), values))\n",
        "\n",
        "\n",
        "def format_table(title: list, values: list, format_sep: str) -> str:\n",
        "\treturn f\"{format_sep}\\n{format_title(title)}\\n{format_sep}\\n{format_values(title, values)}\\n{format_sep}\""
      ],
      "metadata": {
        "id": "ndo7oZkKmKy4"
      },
      "execution_count": 20,
      "outputs": []
    },
    {
      "cell_type": "code",
      "source": [
        "def to_string(table: Table) -> str:\n",
        "    \"\"\"\n",
        "    \"\"\"\n",
        "    pass"
      ],
      "metadata": {
        "id": "2ZvAvbb7cAcW"
      },
      "execution_count": 21,
      "outputs": []
    },
    {
      "cell_type": "code",
      "source": [
        "document = open_docx('путь_к_файлу.docx')\n",
        "document"
      ],
      "metadata": {
        "id": "Urksu5e0vr08"
      },
      "execution_count": 57,
      "outputs": []
    },
    {
      "cell_type": "code",
      "source": [
        "body = get_body(document)\n",
        "# body"
      ],
      "metadata": {
        "id": "Qteur3duv21l"
      },
      "execution_count": 34,
      "outputs": []
    },
    {
      "cell_type": "code",
      "source": [
        "tables = get_tables(body, document)"
      ],
      "metadata": {
        "id": "CRPw4tUU3Zwe"
      },
      "execution_count": 35,
      "outputs": []
    },
    {
      "cell_type": "code",
      "source": [
        "# Отсюда копируется название таблицы и ниже вставляется или через индекст, пример ниже\n",
        "name_tables(tables)"
      ],
      "metadata": {
        "id": "ubUlx-S3-6vQ"
      },
      "execution_count": 52,
      "outputs": []
    },
    {
      "cell_type": "code",
      "source": [
        "# table = get_table(tables[name_tables(tables)[0]]\n",
        "table = get_table(tables['вставить название файл из списка выше'])\n",
        "table"
      ],
      "metadata": {
        "id": "0tbimQaPfxJe"
      },
      "execution_count": 53,
      "outputs": []
    },
    {
      "cell_type": "code",
      "source": [
        "columns = count_columns(table)"
      ],
      "metadata": {
        "id": "bF7hXIopgBlw"
      },
      "execution_count": 45,
      "outputs": []
    },
    {
      "cell_type": "code",
      "source": [
        "rows = count_rows(table)"
      ],
      "metadata": {
        "id": "WjnLTp8NfcaE"
      },
      "execution_count": 46,
      "outputs": []
    },
    {
      "cell_type": "code",
      "source": [
        "get_maxim_length_columns(table, rows, columns)"
      ],
      "metadata": {
        "id": "Xb5kOl4ok8m2"
      },
      "execution_count": 54,
      "outputs": []
    },
    {
      "cell_type": "code",
      "source": [
        "title, table = format_values_table(table, rows, columns)"
      ],
      "metadata": {
        "id": "DrOH4obxlmYt"
      },
      "execution_count": 48,
      "outputs": []
    },
    {
      "cell_type": "code",
      "source": [
        "format_string = format_sep_title(title)"
      ],
      "metadata": {
        "id": "9QU9IcLpmB0d"
      },
      "execution_count": 49,
      "outputs": []
    },
    {
      "cell_type": "code",
      "source": [
        "print(format_table(title, table, format_string))"
      ],
      "metadata": {
        "id": "QEbye3jEmVVN"
      },
      "execution_count": 55,
      "outputs": []
    }
  ],
  "metadata": {
    "colab": {
      "provenance": []
    },
    "kernelspec": {
      "display_name": "Python 3",
      "name": "python3"
    },
    "language_info": {
      "name": "python"
    }
  },
  "nbformat": 4,
  "nbformat_minor": 0
}