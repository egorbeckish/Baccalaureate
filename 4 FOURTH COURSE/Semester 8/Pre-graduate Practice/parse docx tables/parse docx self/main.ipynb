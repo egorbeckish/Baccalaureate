{
  "cells": [
    {
      "cell_type": "code",
      "source": [
        "!pip install python-docx regex"
      ],
      "metadata": {
        "colab": {
          "base_uri": "https://localhost:8080/"
        },
        "id": "6h6VO20QTJxM",
        "outputId": "1378f945-a46e-4342-a4b9-e71dc7403881"
      },
      "execution_count": 1,
      "outputs": [
        {
          "output_type": "stream",
          "name": "stdout",
          "text": [
            "Requirement already satisfied: python-docx in /usr/local/lib/python3.11/dist-packages (1.1.2)\n",
            "Requirement already satisfied: regex in /usr/local/lib/python3.11/dist-packages (2024.11.6)\n",
            "Requirement already satisfied: lxml>=3.1.0 in /usr/local/lib/python3.11/dist-packages (from python-docx) (5.4.0)\n",
            "Requirement already satisfied: typing-extensions>=4.9.0 in /usr/local/lib/python3.11/dist-packages (from python-docx) (4.13.2)\n"
          ]
        }
      ]
    },
    {
      "cell_type": "code",
      "source": [
        "import docx\n",
        "\n",
        "from docx import Document\n",
        "from docx.text.paragraph import Paragraph\n",
        "from docx.table import Table\n",
        "\n",
        "from docx.oxml.text.paragraph import CT_P as omxl_paragraph\n",
        "from docx.oxml.table import CT_Tbl as omxl_table\n",
        "from docx.oxml.section import CT_SectPr as omxl_section\n",
        "\n",
        "import regex"
      ],
      "metadata": {
        "id": "NPQkYCeuZRjJ"
      },
      "execution_count": 2,
      "outputs": []
    },
    {
      "cell_type": "code",
      "source": [
        "def open_docx(path):\n",
        "\treturn Document(path)"
      ],
      "metadata": {
        "id": "qq8mtszaZTPH"
      },
      "execution_count": 3,
      "outputs": []
    },
    {
      "cell_type": "code",
      "source": [
        "def convert_Table_to_list(table):\n",
        "\treturn [[' '.join(cell.text.split()) for cell in row.cells] for row in table.rows]"
      ],
      "metadata": {
        "id": "w22uQHd2ZTvH"
      },
      "execution_count": 4,
      "outputs": []
    },
    {
      "cell_type": "code",
      "source": [
        "def get_rows(table):\n",
        "\treturn len(table)"
      ],
      "metadata": {
        "id": "nupA5cx8ZWIQ"
      },
      "execution_count": 5,
      "outputs": []
    },
    {
      "cell_type": "code",
      "source": [
        "def get_columns(table):\n",
        "\treturn len(table[0])"
      ],
      "metadata": {
        "id": "Wi3dip1fZXzf"
      },
      "execution_count": 6,
      "outputs": []
    },
    {
      "cell_type": "code",
      "source": [
        "def lenght_every_column(table, rows, columns):\n",
        "\tdict_lenght_columns = {}\n",
        "\n",
        "\tfor i in range(columns):\n",
        "\t\tmaxim_lenght = 0\n",
        "\t\tfor j in range(rows):\n",
        "\t\t\tmaxim_lenght = max(maxim_lenght, len(table[j][i]))\n",
        "\n",
        "\t\tdict_lenght_columns[f'столбец_{i}'] = maxim_lenght + 9 if maxim_lenght % 2 else maxim_lenght + 8\n",
        "\n",
        "\treturn dict_lenght_columns"
      ],
      "metadata": {
        "id": "NtLcph7qZZH3"
      },
      "execution_count": 7,
      "outputs": []
    },
    {
      "cell_type": "code",
      "source": [
        "def add_space(dict_lenght_columns, title, columns):\n",
        "\tlenght_title = len(title)\n",
        "\n",
        "\tif sum(list(dict_lenght_columns.values())) + columns <= lenght_title:\n",
        "\t\treturn lenght_title // columns\n",
        "\n",
        "\treturn 0"
      ],
      "metadata": {
        "id": "IRbaM-QDZa33"
      },
      "execution_count": 8,
      "outputs": []
    },
    {
      "cell_type": "code",
      "source": [
        "def format_columns(title, table, rows, columns):\n",
        "\tdict_lenght_columns = lenght_every_column(table, rows, columns)\n",
        "\tspace = add_space(dict_lenght_columns, title, columns)\n",
        "\n",
        "\tfor i in range(columns):\n",
        "\t\tformat_space = dict_lenght_columns[f'столбец_{i}'] + space\n",
        "\t\tfor j in range(rows):\n",
        "\t\t\ttable[j][i] = f'{table[j][i]:^{format_space}}'"
      ],
      "metadata": {
        "id": "ZCK8oEJJZcqf"
      },
      "execution_count": 9,
      "outputs": []
    },
    {
      "cell_type": "code",
      "source": [
        "def sep_values_rows(row):\n",
        "\treturn f\"│{'│'.join(row)}│\""
      ],
      "metadata": {
        "id": "B-lN1cFMZerI"
      },
      "execution_count": 10,
      "outputs": []
    },
    {
      "cell_type": "code",
      "source": [
        "def index_sep_rows(row, columns):\n",
        "\tindex_sep = []\n",
        "\tcount = 0\n",
        "\n",
        "\twhile count != columns:\n",
        "\t\tindex = row[1:].index('│')\n",
        "\t\tindex_sep += [index + 1]\n",
        "\t\trow = row[index + 1:]\n",
        "\t\tcount += 1\n",
        "\n",
        "\treturn index_sep"
      ],
      "metadata": {
        "id": "B1ZvYrqoZgy-"
      },
      "execution_count": 11,
      "outputs": []
    },
    {
      "cell_type": "code",
      "source": [
        "def sep_rows(index_sep):\n",
        "\treturn f\"\\n├{'┼'.join(list(map(lambda x: '─' * (x - 1), index_sep)))}┤\\n\""
      ],
      "metadata": {
        "id": "v4qVaYMPZjVf"
      },
      "execution_count": 12,
      "outputs": []
    },
    {
      "cell_type": "code",
      "source": [
        "def sep_begin_row(index_sep):\n",
        "\treturn f\"├{'┬'.join(list(map(lambda x: '─' * (x - 1), index_sep)))}┤\""
      ],
      "metadata": {
        "id": "9gTTnGM9ZmpP"
      },
      "execution_count": 13,
      "outputs": []
    },
    {
      "cell_type": "code",
      "source": [
        "def sep_last_row(index_sep):\n",
        "\treturn f\"└{'┴'.join(list(map(lambda x: '─' * (x - 1), index_sep)))}┘\""
      ],
      "metadata": {
        "id": "oM06Yh9aZohX"
      },
      "execution_count": 14,
      "outputs": []
    },
    {
      "cell_type": "code",
      "source": [
        "def sep_title(title, lenght):\n",
        "\treturn f\"╭{lenght * '─'}╮\\n│{title:^{lenght}}│\""
      ],
      "metadata": {
        "id": "Pt6Xw05kZqev"
      },
      "execution_count": 15,
      "outputs": []
    },
    {
      "cell_type": "code",
      "source": [
        "def format_rows(title, table, columns):\n",
        "\tfor i, row in enumerate(table):\n",
        "\t\ttable[i] = sep_values_rows(row)\n",
        "\n",
        "\tindex_sep = index_sep_rows(table[0], columns)\n",
        "\treturn f\"{sep_title(title, len(table[0]) - 2)}\\n{sep_begin_row(index_sep)}\\n{f'{sep_rows(index_sep)}'.join(table)}\\n{sep_last_row(index_sep)}\""
      ],
      "metadata": {
        "id": "zqsMfRPYZsmv"
      },
      "execution_count": 16,
      "outputs": []
    },
    {
      "cell_type": "code",
      "source": [
        "def to_string(title, element):\n",
        "\ttable = convert_Table_to_list(element)\n",
        "\n",
        "\trows = get_rows(table)\n",
        "\tcolumns = get_columns(table)\n",
        "\n",
        "\tformat_columns(title, table, rows, columns)\n",
        "\treturn format_rows(title, table, columns)"
      ],
      "metadata": {
        "id": "Tect7ymnZ1X2"
      },
      "execution_count": 17,
      "outputs": []
    },
    {
      "cell_type": "code",
      "source": [
        "def convert_omxl_paragraph_to_text(paragraph, document):\n",
        "\treturn ' '.join(Paragraph(paragraph, document).text.lower().split())"
      ],
      "metadata": {
        "id": "clFlG0cSZ9SO"
      },
      "execution_count": 18,
      "outputs": []
    },
    {
      "cell_type": "code",
      "source": [
        "def convert_list_omxl_paragraph_to_text(list_paragraph, document):\n",
        "\treturn ' '.join(list(map(lambda x: convert_omxl_paragraph_to_text(x, document), list_paragraph)))"
      ],
      "metadata": {
        "id": "qheuusK7aBt2"
      },
      "execution_count": 19,
      "outputs": []
    },
    {
      "cell_type": "code",
      "source": [
        "def convert_omxl_table_to_table(element: omxl_table, document: Document) -> Table:\n",
        "\treturn Table(element, document)"
      ],
      "metadata": {
        "id": "yLzLLbB1aDfu"
      },
      "execution_count": 20,
      "outputs": []
    },
    {
      "cell_type": "code",
      "source": [
        "def convert_text_to_oxml_paragraph(text: str) -> omxl_paragraph:\n",
        "\treturn Document().add_paragraph(text)._element\n",
        "\ttmp_document: Document = Document()\n",
        "\tparagraph = tmp_document.add_paragraph(text)\n",
        "\treturn paragraph._element"
      ],
      "metadata": {
        "id": "SSZgsym0aGr-"
      },
      "execution_count": 21,
      "outputs": []
    },
    {
      "cell_type": "code",
      "source": [
        "def regex_title(text):\n",
        "\treturn regex.findall(r'таблица\\s[0-9]{1,}', text) != []"
      ],
      "metadata": {
        "id": "2kiEsiAHaFg3"
      },
      "execution_count": 22,
      "outputs": []
    },
    {
      "cell_type": "code",
      "source": [
        "def get_body(document):\n",
        "\treturn [element for element in document.element.body if isinstance(element, omxl_paragraph) or isinstance(element, omxl_table)]"
      ],
      "metadata": {
        "id": "Zepto80HaJa2"
      },
      "execution_count": 23,
      "outputs": []
    },
    {
      "cell_type": "code",
      "source": [
        "def correct_body(body, document):\n",
        "    _body = []\n",
        "    index_title = None\n",
        "\n",
        "    for i, element in enumerate(body):\n",
        "        if isinstance(element, omxl_paragraph):\n",
        "            text = convert_omxl_paragraph_to_text(element, document)\n",
        "            if text:\n",
        "                if regex_title(text):\n",
        "                    index_title = i\n",
        "\n",
        "                elif not index_title:\n",
        "                    _body += [element]\n",
        "        else:\n",
        "            if index_title:\n",
        "                title = convert_list_omxl_paragraph_to_text(body[index_title:i], document)\n",
        "                _body += [convert_text_to_oxml_paragraph(title), element]\n",
        "                index_title = None\n",
        "\n",
        "    return _body"
      ],
      "metadata": {
        "id": "5_VtpCzQaLMO"
      },
      "execution_count": 24,
      "outputs": []
    },
    {
      "cell_type": "code",
      "source": [
        "def merge(body, document):\n",
        "\tmerge_text = ''\n",
        "\tindex_title = None\n",
        "\n",
        "\tfor i, element in enumerate(body):\n",
        "\t\tif isinstance(element, omxl_paragraph):\n",
        "\t\t\ttext = convert_omxl_paragraph_to_text(element, document)\n",
        "\t\t\tif regex_title(text):\n",
        "\t\t\t\tindex_title = i\n",
        "\n",
        "\t\t\tif not index_title:\n",
        "\t\t\t\tmerge_text += f\"{text}\\n\\n\"\n",
        "\n",
        "\t\telse:\n",
        "\t\t\ttitle = convert_list_omxl_paragraph_to_text(body[index_title:i], document)\n",
        "\t\t\ttable = convert_omxl_table_to_table(element, document)\n",
        "\t\t\tmerge_text += f\"{to_string(title, table)}\\n\"\n",
        "\t\t\tindex_title = None\n",
        "\n",
        "\treturn merge_text"
      ],
      "metadata": {
        "id": "vOVOB_TSaMBW"
      },
      "execution_count": 25,
      "outputs": []
    },
    {
      "cell_type": "code",
      "source": [
        "document = open_docx('путь_к_документу.docx')"
      ],
      "metadata": {
        "id": "hlC-QC4aURzs"
      },
      "execution_count": 26,
      "outputs": []
    },
    {
      "cell_type": "code",
      "source": [
        "body = correct_body(get_body(document), document)"
      ],
      "metadata": {
        "id": "VeAhhlpOahKF"
      },
      "execution_count": 27,
      "outputs": []
    },
    {
      "cell_type": "code",
      "source": [
        "print(merge(body, document))"
      ],
      "metadata": {
        "id": "BuoI-s0Xaexn"
      },
      "execution_count": 28,
      "outputs": []
    }
  ],
  "metadata": {
    "colab": {
      "provenance": []
    },
    "kernelspec": {
      "display_name": "Python 3",
      "name": "python3"
    }
  },
  "nbformat": 4,
  "nbformat_minor": 0
}