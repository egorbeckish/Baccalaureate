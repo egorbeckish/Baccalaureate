{
  "cells": [
    {
      "cell_type": "code",
      "source": [
        "!pip install python-docx regex"
      ],
      "metadata": {
        "id": "LIZyOHLwj-td",
        "colab": {
          "base_uri": "https://localhost:8080/"
        },
        "outputId": "19442e19-d0eb-46b1-e5d9-dd86e1ae63cb"
      },
      "execution_count": 1,
      "outputs": [
        {
          "output_type": "stream",
          "name": "stdout",
          "text": [
            "Requirement already satisfied: python-docx in /usr/local/lib/python3.11/dist-packages (1.1.2)\n",
            "Requirement already satisfied: regex in /usr/local/lib/python3.11/dist-packages (2024.11.6)\n",
            "Requirement already satisfied: lxml>=3.1.0 in /usr/local/lib/python3.11/dist-packages (from python-docx) (5.3.1)\n",
            "Requirement already satisfied: typing-extensions>=4.9.0 in /usr/local/lib/python3.11/dist-packages (from python-docx) (4.12.2)\n"
          ]
        }
      ]
    },
    {
      "cell_type": "code",
      "source": [
        "import docx\n",
        "\n",
        "from docx import Document\n",
        "from docx.text.paragraph import Paragraph\n",
        "from docx.table import Table\n",
        "\n",
        "from docx.oxml.text.paragraph import CT_P as omxl_paragraph\n",
        "from docx.oxml.table import CT_Tbl as omxl_table\n",
        "from docx.oxml.section import CT_SectPr as omxl_section\n",
        "\n",
        "import regex"
      ],
      "metadata": {
        "id": "NHOvAysnviOv"
      },
      "execution_count": 2,
      "outputs": []
    },
    {
      "cell_type": "code",
      "source": [
        "def open_docx(path: str) -> Document:\n",
        "    \"\"\"\n",
        "    :params str path: Путь к файлу\n",
        "    :return Document: Объект docx\n",
        "    \"\"\"\n",
        "    return Document(path)"
      ],
      "metadata": {
        "id": "S4wqOo0lu29X"
      },
      "execution_count": 3,
      "outputs": []
    },
    {
      "cell_type": "code",
      "source": [
        "def get_body(document: Document) -> list[omxl_paragraph | omxl_table | omxl_section]:\n",
        "    \"\"\"\n",
        "    :params Document document: Объект docx\n",
        "    :return list[omxl_paragraph | omxl_table | omxl_section]: Список объектов находящийся в document\n",
        "    \"\"\"\n",
        "    return [element for element in document.element.body]"
      ],
      "metadata": {
        "id": "MJsogBPov5Ru"
      },
      "execution_count": 4,
      "outputs": []
    },
    {
      "cell_type": "code",
      "source": [
        "def convert_omxl_paragraph_to_text(paragraph: omxl_paragraph, document: Document) -> str:\n",
        "    \"\"\"\n",
        "    :params omxl_paragraph element: параграф oxml\n",
        "    :params Document document: документ, в котором находится данный параграф\n",
        "    :return str: текст параграфа\n",
        "    \"\"\"\n",
        "    return Paragraph(paragraph, document).text.lower()"
      ],
      "metadata": {
        "id": "9GK5pER51FyY"
      },
      "execution_count": 5,
      "outputs": []
    },
    {
      "cell_type": "code",
      "source": [
        "def join_title(paragraphs: list[omxl_paragraph], document: Document) -> str:\n",
        "    \"\"\"\n",
        "    :params list[omxl_paragraph] element: список параграфов omxl\n",
        "    :params Document document: документ, в котором находится данные параграфы\n",
        "    :return str: заголовок таблицы\n",
        "    \"\"\"\n",
        "\n",
        "    title: list[str] = list(map(lambda x: convert_omxl_paragraph_to_text(x, document), paragraphs))\n",
        "    title[0]: str = f'{title[0]}.'\n",
        "    return ' '.join(title)"
      ],
      "metadata": {
        "id": "wBdIMRcC1bUm"
      },
      "execution_count": 6,
      "outputs": []
    },
    {
      "cell_type": "code",
      "source": [
        "def regex_title(text: str) -> bool:\n",
        "    \"\"\"\n",
        "    :params str text: возможный заголовок, где находится таблица N\n",
        "    :return bool: Присутствует или нет\n",
        "    \"\"\"\n",
        "    return regex.findall(r'таблица\\s[0-9]{1,}', text) != []"
      ],
      "metadata": {
        "id": "NAYIBVxr3_ag"
      },
      "execution_count": 7,
      "outputs": []
    },
    {
      "cell_type": "code",
      "source": [
        "def convert_text_to_oxml_paragraph(text: str) -> omxl_paragraph:\n",
        "    \"\"\"\n",
        "    :params str text: текст параграфа\n",
        "    :return omxl_paragraph: параграф omxl\n",
        "    \"\"\"\n",
        "\n",
        "    tmp_document: Document = Document()\n",
        "    paragraph = tmp_document.add_paragraph(text)\n",
        "    return paragraph._element"
      ],
      "metadata": {
        "id": "pYXbOXxM1N7-"
      },
      "execution_count": 8,
      "outputs": []
    },
    {
      "cell_type": "code",
      "source": [
        "def convert_omxl_table_to_table(element: omxl_table, document: Document) -> Table:\n",
        "    \"\"\"\n",
        "    :params omxl_table element: таблица oxml\n",
        "    :return Table: объект таблица\n",
        "    \"\"\"\n",
        "    return Table(element, document)"
      ],
      "metadata": {
        "id": "sWe3CTioWMtu"
      },
      "execution_count": 9,
      "outputs": []
    },
    {
      "cell_type": "code",
      "source": [
        "def correct_space(data: list[str]) -> None:\n",
        "    \"\"\"\n",
        "    :params list[str] data: строка таблицы\n",
        "    :return None: удаляются не нужные пробелы с значениях строки\n",
        "    \"\"\"\n",
        "    for index, value in enumerate(data):\n",
        "        data[index]: str = ' '.join(value.split())"
      ],
      "metadata": {
        "id": "sXDAYWSjOFiw"
      },
      "execution_count": 10,
      "outputs": []
    },
    {
      "cell_type": "code",
      "source": [
        "def correct_title(title: str) -> str:\n",
        "    return ' '.join(title.split())"
      ],
      "metadata": {
        "id": "S_aukz4Wefmp"
      },
      "execution_count": 11,
      "outputs": []
    },
    {
      "cell_type": "code",
      "source": [
        "def gauss(table: list[list[str]]) -> int | None:\n",
        "    \"\"\"\n",
        "    :params list[list[str]] table: сформированная таблица\n",
        "    :return int: индекс строки, где значения от 1 до N\n",
        "\n",
        "    P.S.\n",
        "        стандарт ЛНД подразумивает после заголовком их нумерацию\n",
        "        от 1 до N. Т.к. в дальнейшем данная строка не нужна (нет смысла ее обрабатывать),\n",
        "        следовательно, получаем ее индекс и удаляем.\n",
        "    \"\"\"\n",
        "\n",
        "    for i, row in enumerate(table):\n",
        "        row_isdigit: list[bool] = list(map(lambda x: x.isdigit(), row))\n",
        "        if all(row_isdigit):\n",
        "            length_row: int = len(row)\n",
        "            if sum(map(int, row)) == (length_row * (length_row + 1)) / 2 and length_row == len(set(row)):\n",
        "                return i"
      ],
      "metadata": {
        "id": "d3MxYifRfiKn"
      },
      "execution_count": 12,
      "outputs": []
    },
    {
      "cell_type": "code",
      "source": [
        "def all_isdigit(table: list[list[str]]) -> int | None:\n",
        "    \"\"\"\n",
        "    :params list[list[str]] table: сформированная таблица\n",
        "    :return int: индекс строки, где значения от 1 до N\n",
        "\n",
        "    P.S.\n",
        "        В некоторых ЛНД по неизвестным причинам некоторые\n",
        "        столбцы задваиваются (может быть и не только задваиваются),\n",
        "        следовательно, как было описано в функции gauss, будем находить\n",
        "        строку от 1 до N, которая является последней с точки зрения заголовка,\n",
        "        тем самым, показывающая, как данные считались корректно или нет.\n",
        "    \"\"\"\n",
        "\n",
        "    for i, row in enumerate(table):\n",
        "        row_isdigit: list[bool] = list(map(lambda x: x.isdigit(), row))\n",
        "        if all(row_isdigit):\n",
        "            return i"
      ],
      "metadata": {
        "id": "H4pGxtc4-952"
      },
      "execution_count": 13,
      "outputs": []
    },
    {
      "cell_type": "code",
      "source": [
        "def find_row_repeat(row: list[str]) -> int | None:\n",
        "    \"\"\"\n",
        "    :params list[str] data: строка таблицы\n",
        "    :return None: удаляются не нужные пробелы с значениях строки\n",
        "    \"\"\"\n",
        "\n",
        "    for i in range(len(row)):\n",
        "        if row.count(row[i]) > 1:\n",
        "            return i"
      ],
      "metadata": {
        "id": "o2opp6dji2Q3"
      },
      "execution_count": 14,
      "outputs": []
    },
    {
      "cell_type": "code",
      "source": [
        "def join_prev_row(layers_table: list[list[str]], join_row: list[list[str]]) -> None:\n",
        "    \"\"\"\n",
        "    ...\n",
        "    \"\"\"\n",
        "\n",
        "    if join_row[0][0] == '':\n",
        "        for i, element in enumerate(join_row[0]):\n",
        "            if element:\n",
        "                layers_table[-1][i] += join_row[0][i]\n",
        "\n",
        "        join_row.pop(0)"
      ],
      "metadata": {
        "id": "-nmUm4vtdtfL"
      },
      "execution_count": 15,
      "outputs": []
    },
    {
      "cell_type": "code",
      "source": [
        "def join_tables(tables: list[Table]) -> list[list[str]]:\n",
        "    \"\"\"\n",
        "    ...\n",
        "    \"\"\"\n",
        "\n",
        "    for i, table in enumerate(tables):\n",
        "        if i:\n",
        "            tmp_table = convert_docx_table_to_list_str(table)\n",
        "            tmp_table = tmp_table[gauss(tmp_table) + 1:]\n",
        "            join_prev_row(layers_table, tmp_table)\n",
        "            layers_table += tmp_table\n",
        "\n",
        "        else:\n",
        "            layers_table = convert_docx_table_to_list_str(table)\n",
        "\n",
        "    return layers_table"
      ],
      "metadata": {
        "id": "phXVtHQqdts4"
      },
      "execution_count": 16,
      "outputs": []
    },
    {
      "cell_type": "code",
      "source": [
        "def convert_docx_table_to_list_str(table: Table | list[Table]) -> list[list[str]]:\n",
        "    \"\"\"\n",
        "    :params Table data: объект Table\n",
        "    :return list[list[str]]: таблица список строк\n",
        "    \"\"\"\n",
        "\n",
        "    if isinstance(table, list):\n",
        "        return join_tables(table)\n",
        "\n",
        "    table: list[list[str]] = [[cell.text for cell in row.cells] for row in table.rows]\n",
        "\n",
        "    index: int | None = None\n",
        "    exist_isdigit: int | None = all_isdigit(table)\n",
        "    if exist_isdigit:\n",
        "        index: int | None = find_row_repeat(table[exist_isdigit])\n",
        "\n",
        "    for row in table:\n",
        "        correct_space(row)\n",
        "        if index:\n",
        "            row.pop(index)\n",
        "\n",
        "    return table"
      ],
      "metadata": {
        "id": "qfqMcMYbZhR2"
      },
      "execution_count": 17,
      "outputs": []
    },
    {
      "cell_type": "code",
      "source": [
        "def layers_table(body):\n",
        "    \"\"\"\n",
        "    ...\n",
        "    \"\"\"\n",
        "\n",
        "    index_paragraphs = [i for i in range(len(body)) if isinstance(body[i], omxl_paragraph)]\n",
        "    new_body = []\n",
        "    for i in range(len(index_paragraphs) - 1):\n",
        "        element = body[index_paragraphs[i] + 1:index_paragraphs[i + 1]]\n",
        "\n",
        "        new_body += [body[index_paragraphs[i]]]\n",
        "        if len(element) == 1:\n",
        "            new_body += element\n",
        "\n",
        "        else:\n",
        "            new_body += [element]\n",
        "\n",
        "    new_body += [body[index_paragraphs[-1]]]\n",
        "    element = body[index_paragraphs[-1] + 1:]\n",
        "    if len(element) == 1:\n",
        "        new_body += element\n",
        "\n",
        "    else:\n",
        "        new_body += [element]\n",
        "\n",
        "    return new_body"
      ],
      "metadata": {
        "id": "KYiUm5FbGzvx"
      },
      "execution_count": 18,
      "outputs": []
    },
    {
      "cell_type": "code",
      "source": [
        "def new_body(body, document):\n",
        "    \"\"\"\n",
        "    ...\n",
        "    \"\"\"\n",
        "\n",
        "    new_body = []\n",
        "    index_title_table = None\n",
        "    unic_index_title = []\n",
        "\n",
        "    for index, element in enumerate(body):\n",
        "        if isinstance(element, omxl_paragraph):\n",
        "            text = convert_omxl_paragraph_to_text(element, document)\n",
        "            if regex_title (text):\n",
        "                index_title_table = index\n",
        "\n",
        "        if isinstance(element, omxl_table):\n",
        "            table = convert_omxl_table_to_table(element, document)\n",
        "            table = convert_docx_table_to_list_str(table)\n",
        "\n",
        "\n",
        "            if 'ТИПОВЫЕ' in table[0][0] or 'РЕГЛАМЕНТ' in table[0][0] or len(table) <= 3:\n",
        "                continue\n",
        "\n",
        "            if index_title_table:\n",
        "                if index_title_table not in unic_index_title:\n",
        "                    title = join_title(body[index_title_table:index], document)\n",
        "                    title = convert_text_to_oxml_paragraph(title)\n",
        "                    new_body += [title]\n",
        "\n",
        "                unic_index_title += [index_title_table]\n",
        "\n",
        "            new_body += [element]\n",
        "\n",
        "    new_body = layers_table(new_body)\n",
        "    return new_body"
      ],
      "metadata": {
        "id": "hJytam0GG75v"
      },
      "execution_count": 19,
      "outputs": []
    },
    {
      "cell_type": "code",
      "source": [
        "\"\"\"\n",
        "Вероятно, что будет не рабочий вариант!!!\n",
        "\"\"\"\n",
        "\n",
        "def get_tables(body: list[omxl_paragraph | omxl_table | omxl_section], document: Document) -> dict[str: Table]:\n",
        "    \"\"\"\n",
        "    :params list[omxl_paragraph | omxl_table | omxl_section] body: oxml элементы документа\n",
        "    :params Document document: объект docx\n",
        "    :return dict[str: Table]: словарь таблиц\n",
        "    \"\"\"\n",
        "\n",
        "    i: int = 0\n",
        "    tables: dict[str: omxl_table] = {}\n",
        "\n",
        "    while len(body) > i:\n",
        "        element: omxl_paragraph | omxl_table = body[i]\n",
        "\n",
        "        if isinstance(element, omxl_paragraph):\n",
        "            text: str = convert_omxl_paragraph_to_text(element, document)\n",
        "\n",
        "            if regex_title(text):\n",
        "                tmp_body: list[omxl_paragraph | omxl_table] = body[i + 1:]\n",
        "\n",
        "                for j, el in enumerate(tmp_body):\n",
        "                    if isinstance(el, omxl_table):\n",
        "                        title: str = join_title([element] + tmp_body[:j], document)\n",
        "                        table: Table = convert_omxl_table_to_table(el, document)\n",
        "                        tables[title]: Table = table\n",
        "\n",
        "                        # new_body += [convert_text_to_paragraph(title), el]\n",
        "\n",
        "                        i += j\n",
        "                        break\n",
        "\n",
        "            else:\n",
        "                i += 1\n",
        "\n",
        "        else:\n",
        "            i += 1\n",
        "\n",
        "    return tables"
      ],
      "metadata": {
        "id": "Xqq_u-JnzAgf"
      },
      "execution_count": 20,
      "outputs": []
    },
    {
      "cell_type": "code",
      "source": [
        "def get_tables(body: list[omxl_paragraph | omxl_table | list[omxl_table]], document: Document) -> dict[str: Table | list[Table]]:\n",
        "    \"\"\"\n",
        "    :params list[omxl_paragraph | omxl_table | list[omxl_table]] body: oxml элементы документа\n",
        "    :params Document document: объект docx\n",
        "    :return dict[str: Table]: словарь таблиц\n",
        "    \"\"\"\n",
        "\n",
        "    tables: dict[str: Table | list[Table]] = {}\n",
        "    for index, element in enumerate(body):\n",
        "        if isinstance(element, omxl_paragraph):\n",
        "            title: str = correct_title(convert_omxl_paragraph_to_text(element, document))\n",
        "\n",
        "        if isinstance(element, omxl_table):\n",
        "            tables[title] = convert_omxl_table_to_table(element, document)\n",
        "\n",
        "        elif isinstance(element, list):\n",
        "            tables[title] = list(map(lambda x: convert_omxl_table_to_table(x, document), element))\n",
        "\n",
        "    return tables"
      ],
      "metadata": {
        "id": "yo1TTdnjHe8o"
      },
      "execution_count": 21,
      "outputs": []
    },
    {
      "cell_type": "code",
      "source": [
        "def name_tables(tables: dict[str: Table]) -> list[str]:\n",
        "    \"\"\"\n",
        "    :params dict[str: Table] tables: словарь таблиц\n",
        "    :return list[str]: список названия таблиц\n",
        "    \"\"\"\n",
        "    return list(tables.keys())"
      ],
      "metadata": {
        "id": "rzI5QMl4fBOS"
      },
      "execution_count": 22,
      "outputs": []
    },
    {
      "cell_type": "code",
      "source": [
        "def count_columns(table: list[list[str]]) -> int:\n",
        "    \"\"\"\n",
        "    :params list[list[str]] table: таблица\n",
        "    :return int: количество столбцов\n",
        "    \"\"\"\n",
        "    return len(table[gauss(table)])"
      ],
      "metadata": {
        "id": "Oa0ecmcLcpIm"
      },
      "execution_count": 23,
      "outputs": []
    },
    {
      "cell_type": "code",
      "source": [
        "def count_rows(table: list[list[str]]) -> int:\n",
        "    \"\"\"\n",
        "    :params list[list[str]] table: таблица\n",
        "    :return int: количество строк\n",
        "    \"\"\"\n",
        "    return len(table)"
      ],
      "metadata": {
        "id": "NEuuQpyfdNve"
      },
      "execution_count": 24,
      "outputs": []
    },
    {
      "cell_type": "code",
      "source": [
        "def get_maxim_length_columns(table: list[list[str]], rows: int, columns: int) -> dict[str: int]:\n",
        "\t\"\"\"\n",
        "    :params list[list[str]] table: таблица\n",
        "\t:params int rows: количество строк\n",
        "\t:params int columns: количество столбцов\n",
        "    :return dict[str: int]: каждому столбцу максимальная ширина ячейки\n",
        "    \"\"\"\n",
        "\n",
        "\tmaxim_lenght_columns: dict = dict()\n",
        "\n",
        "\tfor i in range(columns):\n",
        "\t\tmaxim_lenght: int = 0\n",
        "\t\tfor j in range(rows):\n",
        "\t\t\tmaxim_lenght: int = max(maxim_lenght, len(table[j][i]))\n",
        "\n",
        "\t\tmaxim_lenght_columns[f\"столбец_{i + 1}\"]: int = maxim_lenght + 9 if maxim_lenght % 2 else maxim_lenght + 8\n",
        "\n",
        "\treturn maxim_lenght_columns"
      ],
      "metadata": {
        "id": "mTC68pKAlXMQ"
      },
      "execution_count": 25,
      "outputs": []
    },
    {
      "cell_type": "code",
      "source": [
        "def format_rows_table(name_table: str, table: list[list[str]], rows: int, columns: int) -> None:\n",
        "\t\"\"\"\n",
        "    :params list[list[str]] table: таблица\n",
        "\t:params int rows: количество строк\n",
        "\t:params int columns: количество столбцов\n",
        "    :return None: форматирование каждого значения по соот. столбцу\n",
        "    \"\"\"\n",
        "\n",
        "\tlenght_columns: dict[str: int] = get_maxim_length_columns(table, rows, columns)\n",
        "\n",
        "\tmore_space: int = 0\n",
        "\tif sum(list(lenght_columns.values())) + columns <= len(name_table):\n",
        "\t\tmore_space += len(name_table) // columns\n",
        "\n",
        "\tfor i in range(columns):\n",
        "\t\tformat_length: int = lenght_columns[f\"столбец_{i + 1}\"] + more_space\n",
        "\t\tfor j in range(rows):\n",
        "\t\t\ttable[j][i]: str = f\"{table[j][i]:^{format_length}}\""
      ],
      "metadata": {
        "id": "JN5Bhj2Elvgx"
      },
      "execution_count": 26,
      "outputs": []
    },
    {
      "cell_type": "code",
      "source": [
        "def sep_values_row(row: list[str]) -> str:\n",
        "    \"\"\"\n",
        "    :params list[str] row: строка\n",
        "    :return str: соединенная строка разделенная │\n",
        "    \"\"\"\n",
        "    return f\"│{'│'.join(row)}│\""
      ],
      "metadata": {
        "id": "-7i5J3U5IZHe"
      },
      "execution_count": 27,
      "outputs": []
    },
    {
      "cell_type": "code",
      "source": [
        "def sep_begin_row(index_sep: list[int]) -> str:\n",
        "    \"\"\"\n",
        "    :params list[int] index_sep: индексы разделения (чтобы вставить символ, который разделяет столбцы)\n",
        "    :return str: разделяющая строка для начальной строки\n",
        "    \"\"\"\n",
        "    return f\"├{'┬'.join(list(map(lambda x: '─' * (x - 1), index_sep)))}┤\""
      ],
      "metadata": {
        "id": "sBdY167RjHCc"
      },
      "execution_count": 28,
      "outputs": []
    },
    {
      "cell_type": "code",
      "source": [
        "def sep_rows(index_sep: list[int]) -> str:\n",
        "    \"\"\"\n",
        "    :params list[int] index_sep: индексы разделения (чтобы вставить символ, который разделяет столбцы)\n",
        "    :return str: разделяющая строка для строк\n",
        "    \"\"\"\n",
        "    return f\"├{'┼'.join(list(map(lambda x: '─' * (x - 1), index_sep)))}┤\""
      ],
      "metadata": {
        "id": "2pV77OBsJwCW"
      },
      "execution_count": 29,
      "outputs": []
    },
    {
      "cell_type": "code",
      "source": [
        "def sep_last_row(index_sep: list[int]) -> str:\n",
        "    \"\"\"\n",
        "    :params list[int] index_sep: индексы разделения (чтобы вставить символ, который разделяет столбцы)\n",
        "    :return str: разделяющая строка для последней строки\n",
        "    \"\"\"\n",
        "    return f\"└{'┴'.join(list(map(lambda x: '─' * (x - 1), index_sep)))}┘\""
      ],
      "metadata": {
        "id": "bpIN9DnqTwue"
      },
      "execution_count": 30,
      "outputs": []
    },
    {
      "cell_type": "code",
      "source": [
        "def sep_title(title: str, lenght: int) -> str:\n",
        "    \"\"\"\n",
        "    :params str title: название таблицы\n",
        "    :params int lenght: ширина столбцов всего\n",
        "    :return str: разделение заголовка с названием таблицы\n",
        "    \"\"\"\n",
        "    return f\"╭{(lenght - 1) * '─'}╮\\n│{title:^{lenght - 1}}│\\n\""
      ],
      "metadata": {
        "id": "UcGt7e-4q_z0"
      },
      "execution_count": 31,
      "outputs": []
    },
    {
      "cell_type": "code",
      "source": [
        "def index_sep_values(sep_row: str) -> list[int]:\n",
        "    \"\"\"\n",
        "    :params str sep_row: любая строка из таблицы, которая разделена │\n",
        "    :return list[int]: длина разделителя\n",
        "    \"\"\"\n",
        "\n",
        "    index_sep: list[int] = []\n",
        "\n",
        "    for i in range(1, len(sep_row)):\n",
        "        if sep_row[i] == '│':\n",
        "            index_sep += [i]\n",
        "\n",
        "    tmp_index_sep: list[int] = [0] * len(index_sep)\n",
        "    tmp_index_sep[0]: list[int] = index_sep[0]\n",
        "    for i in range(1, len(index_sep)):\n",
        "        tmp_index_sep[i]: list[int] = index_sep[i] - index_sep[i - 1]\n",
        "\n",
        "    return tmp_index_sep"
      ],
      "metadata": {
        "id": "tr8mLeuCY0ll"
      },
      "execution_count": 32,
      "outputs": []
    },
    {
      "cell_type": "code",
      "source": [
        "def to_string(name_table: str) -> str:\n",
        "    \"\"\"\n",
        "    :params str name_table: название таблицы\n",
        "    :return str: сформированная таблица\n",
        "    \"\"\"\n",
        "\n",
        "    table: list[list[str]] = convert_docx_table_to_list_str(tables[name_table])\n",
        "    rows: int = count_rows(table)\n",
        "    columns: int = count_columns(table)\n",
        "    format_rows_table(name_table, table, rows, columns)\n",
        "\n",
        "    table_string: str = ''\n",
        "    index_sep: list[int] = index_sep_values(sep_values_row(table[0]))\n",
        "\n",
        "    for i in range(len(table)):\n",
        "        if i == len(table) - 1:\n",
        "            table_string += f\"{sep_values_row(table[i])}\\n{sep_last_row(index_sep)}\"\n",
        "\n",
        "        else:\n",
        "            if i:\n",
        "                table_string += f\"{sep_values_row(table[i])}\\n{sep_rows(index_sep)}\\n\"\n",
        "\n",
        "            else:\n",
        "                table_string += f\"{sep_begin_row(index_sep)}\\n{sep_values_row(table[i])}\\n{sep_rows(index_sep)}\\n\"\n",
        "\n",
        "    return sep_title(name_table, sum(index_sep)) + table_string"
      ],
      "metadata": {
        "id": "2ZvAvbb7cAcW"
      },
      "execution_count": 33,
      "outputs": []
    },
    {
      "cell_type": "code",
      "source": [
        "document = open_docx('путь_к_файлу.docx')\n",
        "# document"
      ],
      "metadata": {
        "id": "Urksu5e0vr08"
      },
      "execution_count": 34,
      "outputs": []
    },
    {
      "cell_type": "code",
      "source": [
        "body = new_body(get_body(document), document)\n",
        "# body"
      ],
      "metadata": {
        "id": "Qteur3duv21l"
      },
      "execution_count": 35,
      "outputs": []
    },
    {
      "cell_type": "code",
      "source": [
        "tables = get_tables(body, document)\n",
        "# tables"
      ],
      "metadata": {
        "id": "CRPw4tUU3Zwe"
      },
      "execution_count": 36,
      "outputs": []
    },
    {
      "cell_type": "code",
      "source": [
        "name_tables(tables)"
      ],
      "metadata": {
        "id": "ubUlx-S3-6vQ"
      },
      "execution_count": 37,
      "outputs": []
    },
    {
      "cell_type": "code",
      "source": [
        "print(to_string('название таблицы из списка выше'))"
      ],
      "metadata": {
        "id": "_4xHCYSQn2-9"
      },
      "execution_count": 38,
      "outputs": []
    }
  ],
  "metadata": {
    "colab": {
      "provenance": []
    },
    "kernelspec": {
      "display_name": "Python 3",
      "name": "python3"
    },
    "language_info": {
      "name": "python"
    }
  },
  "nbformat": 4,
  "nbformat_minor": 0
}