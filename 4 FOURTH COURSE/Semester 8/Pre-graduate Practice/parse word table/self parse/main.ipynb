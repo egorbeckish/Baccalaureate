{
 "cells": [
  {
   "cell_type": "code",
   "execution_count": 1,
   "metadata": {},
   "outputs": [],
   "source": [
    "from docx import Document\n",
    "from docx.enum.text import WD_ALIGN_PARAGRAPH\n",
    "\n",
    "# создание пустого документа\n",
    "doc = Document()\n",
    "# данные таблицы без названий колонок\n",
    "items = (\n",
    "    (7, '1024', 'Плюшевые котята'),\n",
    "    (3, '2042', 'Меховые пчелы'),\n",
    "    (1, '1288', 'Ошейники для пуделей'),\n",
    ")\n",
    "# добавляем таблицу с одной строкой \n",
    "# для заполнения названий колонок\n",
    "table = doc.add_table(1, len(items[0]))\n",
    "table.style = 'Table Grid'\n",
    "# Получаем строку с колонками из добавленной таблицы \n",
    "head_cells = table.rows[0].cells\n",
    "# добавляем названия колонок\n",
    "for i, item in enumerate(['Кол-во', 'ID', 'Описание']):\n",
    "    p = head_cells[i].paragraphs[0]\n",
    "    # название колонки\n",
    "    p.add_run(item).bold = True\n",
    "    # выравниваем посередине\n",
    "    p.alignment = WD_ALIGN_PARAGRAPH.CENTER\n",
    "# добавляем данные к существующей таблице\n",
    "for row in items:\n",
    "    # добавляем строку с ячейками к объекту таблицы\n",
    "    cells = table.add_row().cells\n",
    "    for i, item in enumerate(row):\n",
    "        # вставляем данные в ячейки\n",
    "        cells[i].text = str(item)\n",
    "doc.save('test.docx')"
   ]
  },
  {
   "cell_type": "code",
   "execution_count": null,
   "metadata": {},
   "outputs": [],
   "source": []
  }
 ],
 "metadata": {
  "kernelspec": {
   "display_name": "Python 3",
   "language": "python",
   "name": "python3"
  },
  "language_info": {
   "codemirror_mode": {
    "name": "ipython",
    "version": 3
   },
   "file_extension": ".py",
   "mimetype": "text/x-python",
   "name": "python",
   "nbconvert_exporter": "python",
   "pygments_lexer": "ipython3",
   "version": "3.12.1"
  }
 },
 "nbformat": 4,
 "nbformat_minor": 2
}
