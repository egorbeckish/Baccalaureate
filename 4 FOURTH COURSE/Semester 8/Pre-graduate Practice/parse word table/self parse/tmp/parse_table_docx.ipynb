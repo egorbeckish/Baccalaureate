{
  "nbformat": 4,
  "nbformat_minor": 0,
  "metadata": {
    "colab": {
      "provenance": []
    },
    "kernelspec": {
      "name": "python3",
      "display_name": "Python 3"
    },
    "language_info": {
      "name": "python"
    }
  },
  "cells": [
    {
      "cell_type": "code",
      "source": [
        "!python --version"
      ],
      "metadata": {
        "id": "HUFYxQT0SI-H",
        "colab": {
          "base_uri": "https://localhost:8080/"
        },
        "outputId": "6c1ef700-d6d5-4831-a1ec-9d764f439787"
      },
      "execution_count": 16,
      "outputs": [
        {
          "output_type": "stream",
          "name": "stdout",
          "text": [
            "Python 3.11.11\n"
          ]
        }
      ]
    },
    {
      "cell_type": "code",
      "source": [
        "!pip install python-docx"
      ],
      "metadata": {
        "colab": {
          "base_uri": "https://localhost:8080/"
        },
        "id": "FIL4Sg1PeFO2",
        "outputId": "337d0992-d0ba-4227-fd00-8245f74cf04c"
      },
      "execution_count": 17,
      "outputs": [
        {
          "output_type": "stream",
          "name": "stdout",
          "text": [
            "Requirement already satisfied: python-docx in /usr/local/lib/python3.11/dist-packages (1.1.2)\n",
            "Requirement already satisfied: lxml>=3.1.0 in /usr/local/lib/python3.11/dist-packages (from python-docx) (5.3.1)\n",
            "Requirement already satisfied: typing-extensions>=4.9.0 in /usr/local/lib/python3.11/dist-packages (from python-docx) (4.12.2)\n"
          ]
        }
      ]
    },
    {
      "cell_type": "code",
      "source": [
        "import docx\n",
        "from docx import Document"
      ],
      "metadata": {
        "id": "5mMlqIN4eGci"
      },
      "execution_count": 18,
      "outputs": []
    },
    {
      "cell_type": "code",
      "source": [
        "def open_docx(docx: str) -> Document:\n",
        "    return Document(docx)"
      ],
      "metadata": {
        "id": "6ZcvAPH3eH1r"
      },
      "execution_count": 19,
      "outputs": []
    },
    {
      "cell_type": "code",
      "source": [
        "def all_tables(docx: Document) -> list:\n",
        "    return docx.tables"
      ],
      "metadata": {
        "id": "E8JsuQdUeJhm"
      },
      "execution_count": 20,
      "outputs": []
    },
    {
      "cell_type": "code",
      "source": [
        "def get_table(tables: list) -> list[list[str]]:\n",
        "    return [[cell.text for cell in row.cells] for row in tables[0].rows]"
      ],
      "metadata": {
        "id": "XTlD-CJpeK6I"
      },
      "execution_count": 21,
      "outputs": []
    },
    {
      "cell_type": "code",
      "source": [
        "def show_table(table: list) -> None:\n",
        "\tfor row in table:\n",
        "\t\tprint(row)\n",
        "\n",
        "\tprint('\\n\\n')"
      ],
      "metadata": {
        "id": "9HNrnLIdoBK2"
      },
      "execution_count": 66,
      "outputs": []
    },
    {
      "cell_type": "code",
      "source": [
        "def show_layers_table(title: list, subtitles: list, values: list) -> None:\n",
        "\tprint(title)\n",
        "\tprint('\\n\\n')\n",
        "\tshow_table(subtitles)\n",
        "\tshow_table(values)"
      ],
      "metadata": {
        "id": "8H7F6cVjoB-V"
      },
      "execution_count": 67,
      "outputs": []
    },
    {
      "cell_type": "code",
      "source": [
        "def unic_values(row):\n",
        "    unic = []\n",
        "    for value in row:\n",
        "        if value not in unic:\n",
        "            unic += [value]\n",
        "\n",
        "    return unic"
      ],
      "metadata": {
        "id": "OAT4oUWBgHOG"
      },
      "execution_count": 50,
      "outputs": []
    },
    {
      "cell_type": "code",
      "source": [
        "def layers(table):\n",
        "    title = unic_values(table[0])\n",
        "\n",
        "    subtitles: list[list[str]] = []\n",
        "    values: list[list[str]] = []\n",
        "    for row in table[1:]:\n",
        "        format_subtitle = unic_values(row)\n",
        "\n",
        "        format_subtitle = ['' if value in title else value for value in format_subtitle]\n",
        "        if '' in format_subtitle:\n",
        "            subtitles += [format_subtitle]\n",
        "\n",
        "        else:\n",
        "            values += [format_subtitle]\n",
        "\n",
        "    return title, subtitles, values"
      ],
      "metadata": {
        "id": "EKdr2HCweNwK"
      },
      "execution_count": 61,
      "outputs": []
    },
    {
      "cell_type": "code",
      "source": [
        "docx = open_docx('table.docx')\n",
        "docx"
      ],
      "metadata": {
        "colab": {
          "base_uri": "https://localhost:8080/"
        },
        "id": "BFZpRkiSeX7D",
        "outputId": "3d536b44-7a8b-4270-8b48-668232ce0dba"
      },
      "execution_count": 62,
      "outputs": [
        {
          "output_type": "execute_result",
          "data": {
            "text/plain": [
              "<docx.document.Document at 0x7fd90a255010>"
            ]
          },
          "metadata": {},
          "execution_count": 62
        }
      ]
    },
    {
      "cell_type": "code",
      "source": [
        "tables = all_tables(docx)\n",
        "tables"
      ],
      "metadata": {
        "colab": {
          "base_uri": "https://localhost:8080/"
        },
        "id": "6jImRQDRebWF",
        "outputId": "ab37b066-8287-44bb-b17b-ec31ea903338"
      },
      "execution_count": 63,
      "outputs": [
        {
          "output_type": "execute_result",
          "data": {
            "text/plain": [
              "[<docx.table.Table at 0x7fd9095f7090>]"
            ]
          },
          "metadata": {},
          "execution_count": 63
        }
      ]
    },
    {
      "cell_type": "code",
      "source": [
        "table = get_table(tables)\n",
        "table"
      ],
      "metadata": {
        "colab": {
          "base_uri": "https://localhost:8080/"
        },
        "id": "SbkK2DGoe_BJ",
        "outputId": "79a4d06e-4b89-42f6-c7c8-97ea707e2f09"
      },
      "execution_count": 64,
      "outputs": [
        {
          "output_type": "execute_result",
          "data": {
            "text/plain": [
              "[['Номер',\n",
              "  'Ст1',\n",
              "  'Ст2',\n",
              "  'Ст2',\n",
              "  'Ст2',\n",
              "  'Ст2',\n",
              "  'Ст2',\n",
              "  'Ст3',\n",
              "  'Ст4',\n",
              "  'Ст4',\n",
              "  'Ст4',\n",
              "  'Ст4'],\n",
              " ['Номер',\n",
              "  'Ст1',\n",
              "  'ПСт1',\n",
              "  'ПСт2',\n",
              "  'ПСт2',\n",
              "  'ПСт2',\n",
              "  'ПСт2',\n",
              "  'Ст3',\n",
              "  'ПСт3',\n",
              "  'ПСт3',\n",
              "  'ПСт4',\n",
              "  'ПСт5'],\n",
              " ['Номер',\n",
              "  'Ст1',\n",
              "  'ПСт1',\n",
              "  'ПСт2.1',\n",
              "  'ПСт2.1',\n",
              "  'ПСт2.2',\n",
              "  'ПСт2.2',\n",
              "  'Ст3',\n",
              "  'ПСт3.1',\n",
              "  'ПСт3.2',\n",
              "  'ПСт4',\n",
              "  'ПСт5'],\n",
              " ['1', '2', '3', '3', '4', '4', '5', '6', '7', '8', '9', '10'],\n",
              " ['2', '11', '12', '12', '13', '13', '14', '15', '16', '17', '18', '19'],\n",
              " ['3', '20', '21', '21', '22', '22', '23', '24', '25', '26', '27', '28']]"
            ]
          },
          "metadata": {},
          "execution_count": 64
        }
      ]
    },
    {
      "cell_type": "code",
      "source": [
        "show_table(table)"
      ],
      "metadata": {
        "colab": {
          "base_uri": "https://localhost:8080/"
        },
        "id": "G1Bjd8R8oEtF",
        "outputId": "734cf252-0910-4d12-eaaf-f721cea512c3"
      },
      "execution_count": 68,
      "outputs": [
        {
          "output_type": "stream",
          "name": "stdout",
          "text": [
            "['Номер', 'Ст1', 'Ст2', 'Ст2', 'Ст2', 'Ст2', 'Ст2', 'Ст3', 'Ст4', 'Ст4', 'Ст4', 'Ст4']\n",
            "['Номер', 'Ст1', 'ПСт1', 'ПСт2', 'ПСт2', 'ПСт2', 'ПСт2', 'Ст3', 'ПСт3', 'ПСт3', 'ПСт4', 'ПСт5']\n",
            "['Номер', 'Ст1', 'ПСт1', 'ПСт2.1', 'ПСт2.1', 'ПСт2.2', 'ПСт2.2', 'Ст3', 'ПСт3.1', 'ПСт3.2', 'ПСт4', 'ПСт5']\n",
            "['1', '2', '3', '3', '4', '4', '5', '6', '7', '8', '9', '10']\n",
            "['2', '11', '12', '12', '13', '13', '14', '15', '16', '17', '18', '19']\n",
            "['3', '20', '21', '21', '22', '22', '23', '24', '25', '26', '27', '28']\n",
            "\n",
            "\n",
            "\n"
          ]
        }
      ]
    },
    {
      "cell_type": "code",
      "source": [
        "title, subtitles, values = layers(table)"
      ],
      "metadata": {
        "id": "B3Ie3T8je_gB"
      },
      "execution_count": 72,
      "outputs": []
    },
    {
      "cell_type": "code",
      "source": [
        "show_layers_table(title, subtitles, values)"
      ],
      "metadata": {
        "colab": {
          "base_uri": "https://localhost:8080/"
        },
        "id": "AC8qHfNVfY-a",
        "outputId": "eea97438-48dc-43cc-eadd-588015539f33"
      },
      "execution_count": 73,
      "outputs": [
        {
          "output_type": "stream",
          "name": "stdout",
          "text": [
            "['Номер', 'Ст1', 'Ст2', 'Ст3', 'Ст4']\n",
            "\n",
            "\n",
            "\n",
            "['', '', 'ПСт1', 'ПСт2', '', 'ПСт3', 'ПСт4', 'ПСт5']\n",
            "['', '', 'ПСт1', 'ПСт2.1', 'ПСт2.2', '', 'ПСт3.1', 'ПСт3.2', 'ПСт4', 'ПСт5']\n",
            "\n",
            "\n",
            "\n",
            "['1', '2', '3', '4', '5', '6', '7', '8', '9', '10']\n",
            "['2', '11', '12', '13', '14', '15', '16', '17', '18', '19']\n",
            "['3', '20', '21', '22', '23', '24', '25', '26', '27', '28']\n",
            "\n",
            "\n",
            "\n"
          ]
        }
      ]
    },
    {
      "cell_type": "code",
      "source": [],
      "metadata": {
        "id": "zJWpP3apoPPM"
      },
      "execution_count": null,
      "outputs": []
    }
  ]
}