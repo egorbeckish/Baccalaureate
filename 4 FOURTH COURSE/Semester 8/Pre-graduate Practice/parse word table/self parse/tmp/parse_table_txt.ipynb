{
  "nbformat": 4,
  "nbformat_minor": 0,
  "metadata": {
    "colab": {
      "provenance": [],
      "toc_visible": true
    },
    "kernelspec": {
      "name": "python3",
      "display_name": "Python 3"
    },
    "language_info": {
      "name": "python"
    }
  },
  "cells": [
    {
      "cell_type": "code",
      "execution_count": 231,
      "metadata": {
        "colab": {
          "base_uri": "https://localhost:8080/"
        },
        "id": "ScBP5ABgV5Do",
        "outputId": "86d96cde-0e33-4c63-f9d0-085e1b475597"
      },
      "outputs": [
        {
          "output_type": "stream",
          "name": "stdout",
          "text": [
            "Python 3.11.11\n"
          ]
        }
      ],
      "source": [
        "!python --version"
      ]
    },
    {
      "cell_type": "code",
      "source": [
        "import os"
      ],
      "metadata": {
        "id": "AtuQk_KiWLOp"
      },
      "execution_count": 232,
      "outputs": []
    },
    {
      "cell_type": "code",
      "source": [
        "def cls() -> None:\n",
        "\tos.system('cls')\n",
        "\tprint('\\n\\n')"
      ],
      "metadata": {
        "id": "4oxR7f8LZiSW"
      },
      "execution_count": 233,
      "outputs": []
    },
    {
      "cell_type": "code",
      "source": [
        "def open_file(path: str) -> list[str]:\n",
        "\treturn open(path, encoding=\"utf-8\").read().split(\"\\n\")"
      ],
      "metadata": {
        "id": "cr8rlYSeZjXh"
      },
      "execution_count": 234,
      "outputs": []
    },
    {
      "cell_type": "code",
      "source": [
        "def get_table(table: list) -> list[list[str]]:\n",
        "\treturn list(map(lambda x: x.split(), table))"
      ],
      "metadata": {
        "id": "Bl0PpgGfZkTo"
      },
      "execution_count": 235,
      "outputs": []
    },
    {
      "cell_type": "code",
      "source": [
        "def count_columns(title: list) -> int:\n",
        "\treturn len(title[0])"
      ],
      "metadata": {
        "id": "TfC2ATsMZmcV"
      },
      "execution_count": 236,
      "outputs": []
    },
    {
      "cell_type": "code",
      "source": [
        "def count_rows(table: list) -> int:\n",
        "\treturn len(table)"
      ],
      "metadata": {
        "id": "xJrJ4BTtZn8q"
      },
      "execution_count": 237,
      "outputs": []
    },
    {
      "cell_type": "code",
      "source": [
        "def show_table(table: list) -> None:\n",
        "\tfor row in table:\n",
        "\t\tprint(row)\n",
        "\n",
        "\tprint('\\n\\n')"
      ],
      "metadata": {
        "id": "FMCpCRAqZpDU"
      },
      "execution_count": 238,
      "outputs": []
    },
    {
      "cell_type": "code",
      "source": [
        "def show_layers_table(title: list, subtitles: list, values: list) -> None:\n",
        "\tprint(title)\n",
        "\tprint('\\n\\n')\n",
        "\tshow_table(subtitles)\n",
        "\tshow_table(values)"
      ],
      "metadata": {
        "id": "zj4UcQ2oZqH3"
      },
      "execution_count": 239,
      "outputs": []
    },
    {
      "cell_type": "code",
      "source": [
        "def layers(table: list[list[str]]) -> tuple[list[str] | list[list[str]]]:\n",
        "\t\"\"\"\n",
        "\tРазделение данных таблицы на:\n",
        "\t\t- заголовок (основной, является первая строка)\n",
        "\t\t- подзаголовки (начинаются со следущей строки после заголовка)\n",
        "\t\t- данные (начинаются со следущей строки после подзаголовков)\n",
        "\n",
        "    :params table: Полноценная таблица полученная из docx\n",
        "    :type table: list[list[str]]\n",
        "    :return: Разделенная таблица на соот. слои\n",
        "    :return type: tuple[list[str] | list[list[str]]]\n",
        "\t\"\"\"\n",
        "\n",
        "\ttitle: list[str] = [value for value in table[0]]\n",
        "\tsubtitles: list[list[str]] = []\n",
        "\tvalues: list[list[str]] = []\n",
        "\n",
        "\tfor i, row in enumerate(table[1:]):\n",
        "\t\tformat_subtitle: list[str] = ['' if value in title else value for value in row]\n",
        "\t\tif '' in format_subtitle:\n",
        "\t\t\tsubtitles += [format_subtitle]\n",
        "\n",
        "\t\telse:\n",
        "\t\t\tvalues += [format_subtitle]\n",
        "\n",
        "\treturn title, subtitles, values"
      ],
      "metadata": {
        "id": "Kssa0cOJeW6f"
      },
      "execution_count": 240,
      "outputs": []
    },
    {
      "cell_type": "code",
      "source": [
        "def correct_subtitles(subtitles: list[list[str]]) -> list[list[str]]:\n",
        "    \"\"\"\n",
        "    Доопределение подзаголовков с учетом того, что у самого первого\n",
        "    подзаголовка могут быть собственные подзаголовки.\n",
        "\n",
        "    :params subtitles: Подзаголовки\n",
        "    :type subtitles: list[list[str]]\n",
        "    :return: Подзаголовки без повторов\n",
        "    :return type: list[list[str]]\n",
        "    \"\"\"\n",
        "\n",
        "    new_subtitles = [subtitles[0]]\n",
        "    for i, subtitle in enumerate(subtitles[1:]):\n",
        "        format_subtitle: list[str] = ['' if value in subtitles[i] else value for value in subtitle]\n",
        "        new_subtitles += [format_subtitle]\n",
        "\n",
        "    return new_subtitles"
      ],
      "metadata": {
        "id": "Qkx19zXrRaEd"
      },
      "execution_count": 267,
      "outputs": []
    },
    {
      "cell_type": "code",
      "source": [
        "def get_intervals(interval: list[list[int]]) -> None:\n",
        "    \"\"\"\n",
        "    Возвращает начало и конец интервалов.\n",
        "\n",
        "\n",
        "    :params interval: Интервалы для каждой строки\n",
        "    :type table: list[list[int]]\n",
        "    :return: Корректные интервалы для каждой строки\n",
        "    :return type: None\n",
        "\n",
        "    >>> get_intervals(\n",
        "        [\n",
        "            [1, 2, 3, 4, 7, 8, 9, 10],\n",
        "            [10, 11, 12, 13, 1, 2, 3, 4, 7, 9, 10, 11]\n",
        "        ]\n",
        "    )\n",
        "\n",
        "    [\n",
        "        [[1, 4], [7, 10]],\n",
        "        [[10, 13], [1, 4], [7], [9, 11]]\n",
        "    ]\n",
        "    \"\"\"\n",
        "\n",
        "\t# for i, row in enumerate(interval):\n",
        "\t# \tcurrent: int = interval[i][0]\n",
        "\t# \t_next: int = interval[i][0]\n",
        "\t# \trow_index = []\n",
        "\t# \tfor j in range(1, len(row)):\n",
        "\t# \t\tif index[i][j] == _next + 1:\n",
        "\t# \t\t\t_next: int = interval[i][j]\n",
        "\n",
        "\t# \t\telse:\n",
        "\t# \t\t\tif current == _next:\n",
        "\t# \t\t\t\trow_index += [current]\n",
        "\t# \t\t\telse:\n",
        "\t# \t\t\t\trow_index += [current, _next]\n",
        "\n",
        "\t# \t\t\tcurrent: int = interval[i][j]\n",
        "\t# \t\t\t_next: int = interval[i][j]\n",
        "\n",
        "\t# \tif current == _next:\n",
        "\t# \t\trow_index += [current]\n",
        "\t# \telse:\n",
        "\t# \t\trow_index += [current, _next]\n",
        "\n",
        "\t# \tinterval[i]: list = row_index\n",
        "\n",
        "\n",
        "    intervals: list[list[int]] = [[] for _ in range(len(interval))]\n",
        "    for i, row in enumerate(interval):\n",
        "        index_row: list[int] = []\n",
        "        for j in range(len(row) - 1):\n",
        "            current: int = row[j]\n",
        "            _next: int = row[j + 1]\n",
        "\n",
        "            if _next - current == 1:\n",
        "                if not index_row:\n",
        "                    index_row += [current]\n",
        "\n",
        "            else:\n",
        "                index_row += [current]\n",
        "                intervals[i] += [index_row]\n",
        "                index_row: list[int] = []\n",
        "\n",
        "            if j + 1 == len(row) - 1:\n",
        "                intervals[i] += [index_row + [row[j + 1]]]\n",
        "\n",
        "        interval[i]: list[int] = intervals[i]"
      ],
      "metadata": {
        "id": "CVmbhdKsZtG9"
      },
      "execution_count": 268,
      "outputs": []
    },
    {
      "cell_type": "code",
      "source": [
        "def join_index(subtitles: list[list[str]]) -> list[list[int]]:\n",
        "\t\"\"\"\n",
        "\tПолучаем индексы, какие подзаголовки и данные необходимо объединить, чтобы\n",
        "    соответствовали кол-ву столбцам, т.к. главный заголовок определяет кол-во элементов в строке.\n",
        "    По последней строке подзаголовка определяется объединение значений.\n",
        "\n",
        "    :params subtitles: Подзаголовки\n",
        "    :type subtitles: list[list[str]]\n",
        "    :return: Индексы каждого подзаголовка и значений\n",
        "    :return type: list[list[int]]\n",
        "\t\"\"\"\n",
        "\n",
        "\tindex: list[list[int]] = []\n",
        "\tfor row in subtitles:\n",
        "\t\trow_index: list[int] = []\n",
        "\t\tfor i in range(len(row)):\n",
        "\t\t\tif row[i]:\n",
        "\t\t\t\trow_index += [i]\n",
        "\n",
        "\t\tindex += [row_index]\n",
        "\n",
        "\tget_intervals(index)\n",
        "\treturn index"
      ],
      "metadata": {
        "id": "f6ijLAYRZu9i"
      },
      "execution_count": 269,
      "outputs": []
    },
    {
      "cell_type": "code",
      "source": [
        "def join_subtitles(columns: int, subtitles: list[list[str]]) -> None:\n",
        "    \"\"\"\n",
        "    Объединение по кол-ву столбцов всех подзаголовков.\n",
        "\n",
        "    :params columns: Подзаголовки\n",
        "    :type columns: int\n",
        "    :params subtitles: Подзаголовки\n",
        "    :type subtitles: list[list[str]]\n",
        "    :return: Объединенные столбцы по их кол-ву из заголовка\n",
        "    :return type: None\n",
        "    \"\"\"\n",
        "\n",
        "    index: list[list[int]] = join_index(subtitles)\n",
        "\n",
        "    for i, subtitle in enumerate(subtitles):\n",
        "        new_subtitle: list[str] = [''] * columns\n",
        "        for row_index in index[i]:\n",
        "            row_index[1] += 1\n",
        "            _slice: slice = slice(*row_index)\n",
        "            join_subtitle: str = '|'.join(subtitle[_slice])\n",
        "            new_subtitle[row_index[0] if row_index[0] < columns else (row_index[0] - 1 if row_index[0] == columns else columns - 1)]: str = join_subtitle\n",
        "\n",
        "        subtitles[i]: list[str] = new_subtitle"
      ],
      "metadata": {
        "id": "cXoCyn8AaFV2"
      },
      "execution_count": 410,
      "outputs": []
    },
    {
      "cell_type": "code",
      "source": [
        "def join_values(columns: int, index: list[list[int]], values: list[list[str]]) -> None:\n",
        "    _join_index = index[-1]\n",
        "    for i, value in enumerate(values):\n",
        "        new_values: list[str] = [''] * columns\n",
        "        if (length_index := len(_join_index)) == 1:\n",
        "            pass\n",
        "\n",
        "        else:\n",
        "            for j in range(length_index - 1):\n",
        "                print(_join_index[j][0], _join_index[j + 1][0])\n",
        "            print(_join_index[j + 1][0])\n",
        "\n",
        "        # for row_index in index[-1]:\n",
        "            # if len(row_index) == 1:\n",
        "            #     print(row_index)\n",
        "\n",
        "            # else:\n",
        "            #     print(value, row_index, index[0])"
      ],
      "metadata": {
        "id": "nTG3fpUOwwNM"
      },
      "execution_count": 686,
      "outputs": []
    },
    {
      "cell_type": "code",
      "source": [],
      "metadata": {
        "id": "2gVL93ECbiM-"
      },
      "execution_count": 686,
      "outputs": []
    },
    {
      "cell_type": "code",
      "source": [
        "file = open_file(\"table.txt\")\n",
        "file"
      ],
      "metadata": {
        "colab": {
          "base_uri": "https://localhost:8080/"
        },
        "id": "TEYZ8DZnZwtH",
        "outputId": "61b69cf3-4ef6-4f67-87f5-07e2a5e83973"
      },
      "execution_count": 687,
      "outputs": [
        {
          "output_type": "execute_result",
          "data": {
            "text/plain": [
              "['Номер Ст1 Ст2 Ст3 Ст4',\n",
              " 'Номер Ст1 ПСт1 ПСт2 Ст3 ПСт3 ПСт4',\n",
              " '1 2 3 45 6 78 910',\n",
              " '2 11 12 1314 15 1617 1819',\n",
              " '3 20 21 2223 24 2526 2728']"
            ]
          },
          "metadata": {},
          "execution_count": 687
        }
      ]
    },
    {
      "cell_type": "code",
      "source": [
        "table = get_table(file)\n",
        "table"
      ],
      "metadata": {
        "colab": {
          "base_uri": "https://localhost:8080/"
        },
        "id": "7mc6APu2MAIA",
        "outputId": "a596bfb5-8b2c-4a74-e26e-e9e074442934"
      },
      "execution_count": 688,
      "outputs": [
        {
          "output_type": "execute_result",
          "data": {
            "text/plain": [
              "[['Номер', 'Ст1', 'Ст2', 'Ст3', 'Ст4'],\n",
              " ['Номер', 'Ст1', 'ПСт1', 'ПСт2', 'Ст3', 'ПСт3', 'ПСт4'],\n",
              " ['1', '2', '3', '45', '6', '78', '910'],\n",
              " ['2', '11', '12', '1314', '15', '1617', '1819'],\n",
              " ['3', '20', '21', '2223', '24', '2526', '2728']]"
            ]
          },
          "metadata": {},
          "execution_count": 688
        }
      ]
    },
    {
      "cell_type": "code",
      "source": [
        "columns = count_columns(table)\n",
        "columns"
      ],
      "metadata": {
        "colab": {
          "base_uri": "https://localhost:8080/"
        },
        "id": "ONqsMKCuMA7_",
        "outputId": "a988f643-122c-4bc0-a35e-710342f003e3"
      },
      "execution_count": 689,
      "outputs": [
        {
          "output_type": "execute_result",
          "data": {
            "text/plain": [
              "5"
            ]
          },
          "metadata": {},
          "execution_count": 689
        }
      ]
    },
    {
      "cell_type": "code",
      "source": [
        "rows = count_rows(table)\n",
        "rows"
      ],
      "metadata": {
        "colab": {
          "base_uri": "https://localhost:8080/"
        },
        "id": "xcn1ycS5MJH_",
        "outputId": "30136d99-e325-4062-e615-592b5d27a75f"
      },
      "execution_count": 690,
      "outputs": [
        {
          "output_type": "execute_result",
          "data": {
            "text/plain": [
              "5"
            ]
          },
          "metadata": {},
          "execution_count": 690
        }
      ]
    },
    {
      "cell_type": "code",
      "source": [
        "show_table(table)"
      ],
      "metadata": {
        "colab": {
          "base_uri": "https://localhost:8080/"
        },
        "id": "NKY_MLmPZyMx",
        "outputId": "e2ad1997-8aa6-4a11-f98f-b0dde24b8c36"
      },
      "execution_count": 691,
      "outputs": [
        {
          "output_type": "stream",
          "name": "stdout",
          "text": [
            "['Номер', 'Ст1', 'Ст2', 'Ст3', 'Ст4']\n",
            "['Номер', 'Ст1', 'ПСт1', 'ПСт2', 'Ст3', 'ПСт3', 'ПСт4']\n",
            "['1', '2', '3', '45', '6', '78', '910']\n",
            "['2', '11', '12', '1314', '15', '1617', '1819']\n",
            "['3', '20', '21', '2223', '24', '2526', '2728']\n",
            "\n",
            "\n",
            "\n"
          ]
        }
      ]
    },
    {
      "cell_type": "code",
      "source": [
        "title, subtitles, values = layers(table)"
      ],
      "metadata": {
        "id": "FTpNlH13Z0Ad"
      },
      "execution_count": 692,
      "outputs": []
    },
    {
      "cell_type": "code",
      "source": [
        "subtitles = correct_subtitles(subtitles)"
      ],
      "metadata": {
        "id": "j3JaBdYISHuz"
      },
      "execution_count": 693,
      "outputs": []
    },
    {
      "cell_type": "code",
      "source": [
        "show_layers_table(title, subtitles, values)"
      ],
      "metadata": {
        "colab": {
          "base_uri": "https://localhost:8080/"
        },
        "id": "LPxTAF0BZ1HU",
        "outputId": "d55320e8-de6e-47f2-8756-1c60dbb09c26"
      },
      "execution_count": 694,
      "outputs": [
        {
          "output_type": "stream",
          "name": "stdout",
          "text": [
            "['Номер', 'Ст1', 'Ст2', 'Ст3', 'Ст4']\n",
            "\n",
            "\n",
            "\n",
            "['', '', 'ПСт1', 'ПСт2', '', 'ПСт3', 'ПСт4']\n",
            "\n",
            "\n",
            "\n",
            "['1', '2', '3', '45', '6', '78', '910']\n",
            "['2', '11', '12', '1314', '15', '1617', '1819']\n",
            "['3', '20', '21', '2223', '24', '2526', '2728']\n",
            "\n",
            "\n",
            "\n"
          ]
        }
      ]
    },
    {
      "cell_type": "code",
      "source": [
        "join_subtitles(columns, subtitles)"
      ],
      "metadata": {
        "id": "HJVlIwm0Z3R0"
      },
      "execution_count": 695,
      "outputs": []
    },
    {
      "cell_type": "code",
      "source": [
        "show_layers_table(title, subtitles, values)"
      ],
      "metadata": {
        "colab": {
          "base_uri": "https://localhost:8080/"
        },
        "id": "_SRk49HTzcjv",
        "outputId": "29e3348b-0e25-42a6-e5eb-5150cd7a87bd"
      },
      "execution_count": 696,
      "outputs": [
        {
          "output_type": "stream",
          "name": "stdout",
          "text": [
            "['Номер', 'Ст1', 'Ст2', 'Ст3', 'Ст4']\n",
            "\n",
            "\n",
            "\n",
            "['', '', 'ПСт1|ПСт2', '', 'ПСт3|ПСт4']\n",
            "\n",
            "\n",
            "\n",
            "['1', '2', '3', '45', '6', '78', '910']\n",
            "['2', '11', '12', '1314', '15', '1617', '1819']\n",
            "['3', '20', '21', '2223', '24', '2526', '2728']\n",
            "\n",
            "\n",
            "\n"
          ]
        }
      ]
    },
    {
      "cell_type": "code",
      "source": [
        "_join_index = join_index(subtitles)\n",
        "_join_index"
      ],
      "metadata": {
        "colab": {
          "base_uri": "https://localhost:8080/"
        },
        "id": "wNfYsBXu1IJe",
        "outputId": "ebce26b6-045d-4ed1-db85-4b8eefc8904f"
      },
      "execution_count": 697,
      "outputs": [
        {
          "output_type": "execute_result",
          "data": {
            "text/plain": [
              "[[[2], [4]]]"
            ]
          },
          "metadata": {},
          "execution_count": 697
        }
      ]
    },
    {
      "cell_type": "code",
      "source": [
        "join_values(columns, _join_index, values)"
      ],
      "metadata": {
        "colab": {
          "base_uri": "https://localhost:8080/"
        },
        "id": "s_S0af0H4QA3",
        "outputId": "b0438791-d7a5-4d27-d653-d082ed805ff9"
      },
      "execution_count": 698,
      "outputs": [
        {
          "output_type": "stream",
          "name": "stdout",
          "text": [
            "2 4\n",
            "4\n",
            "2 4\n",
            "4\n",
            "2 4\n",
            "4\n"
          ]
        }
      ]
    },
    {
      "cell_type": "code",
      "source": [
        "Номер Ст1 Ст2 Ст3 Ст4\n",
        "Номер Ст1 ПСт1 ПСт2 Ст3 ПСт3 ПСт4 ПСт5\n",
        "Номер Ст1 ПСт1 ПСт2.1 ПСт2.2 Ст3 ПСт3.1 ПСт3.2 ПСт4 ПСт5\n",
        "1 1 2 3 4 6 7 8 9 9\n",
        "2 5 6 7 5 6 7 8 9 9\n",
        "3 9 10 11 6 6 7 8 9 9"
      ],
      "metadata": {
        "colab": {
          "base_uri": "https://localhost:8080/",
          "height": 106
        },
        "id": "j71YmAI66cll",
        "outputId": "7df5c07e-adea-41fd-e7cf-7a135b3bc231"
      },
      "execution_count": 699,
      "outputs": [
        {
          "output_type": "error",
          "ename": "SyntaxError",
          "evalue": "invalid syntax (<ipython-input-699-c60a61e4a757>, line 1)",
          "traceback": [
            "\u001b[0;36m  File \u001b[0;32m\"<ipython-input-699-c60a61e4a757>\"\u001b[0;36m, line \u001b[0;32m1\u001b[0m\n\u001b[0;31m    Номер Ст1 Ст2 Ст3 Ст4\u001b[0m\n\u001b[0m          ^\u001b[0m\n\u001b[0;31mSyntaxError\u001b[0m\u001b[0;31m:\u001b[0m invalid syntax\n"
          ]
        }
      ]
    },
    {
      "cell_type": "code",
      "source": [
        "Номер Ст1 Ст2 Ст3 Ст4\n",
        "Номер Ст1 ПСт1 ПСт2 Ст3 ПСт3 ПСт4\n",
        "1 2 3 45 6 78 910\n",
        "2 11 12 1314 15 1617 1819\n",
        "3 20 21 2223 24 2526 2728"
      ],
      "metadata": {
        "id": "u1CBfEN78RHE"
      },
      "execution_count": null,
      "outputs": []
    }
  ]
}