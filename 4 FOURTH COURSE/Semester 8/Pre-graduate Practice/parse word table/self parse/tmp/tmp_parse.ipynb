{
  "nbformat": 4,
  "nbformat_minor": 0,
  "metadata": {
    "colab": {
      "provenance": []
    },
    "kernelspec": {
      "name": "python3",
      "display_name": "Python 3"
    },
    "language_info": {
      "name": "python"
    }
  },
  "cells": [
    {
      "cell_type": "code",
      "execution_count": 101,
      "metadata": {
        "colab": {
          "base_uri": "https://localhost:8080/"
        },
        "id": "ScBP5ABgV5Do",
        "outputId": "b97954c3-e52b-4f1a-9962-4805cd0e7ee6"
      },
      "outputs": [
        {
          "output_type": "stream",
          "name": "stdout",
          "text": [
            "Python 3.11.11\n"
          ]
        }
      ],
      "source": [
        "!python --version"
      ]
    },
    {
      "cell_type": "code",
      "source": [
        "import os"
      ],
      "metadata": {
        "id": "AtuQk_KiWLOp"
      },
      "execution_count": 102,
      "outputs": []
    },
    {
      "cell_type": "code",
      "source": [
        "def cls() -> None:\n",
        "\tos.system('cls')\n",
        "\tprint('\\n\\n')"
      ],
      "metadata": {
        "id": "4oxR7f8LZiSW"
      },
      "execution_count": 103,
      "outputs": []
    },
    {
      "cell_type": "code",
      "source": [
        "def open_file(path: str) -> list[str]:\n",
        "\treturn open(path, encoding=\"utf-8\").read().split(\"\\n\")"
      ],
      "metadata": {
        "id": "cr8rlYSeZjXh"
      },
      "execution_count": 104,
      "outputs": []
    },
    {
      "cell_type": "code",
      "source": [
        "def get_table(table: list) -> list[list[str]]:\n",
        "\treturn list(map(lambda x: x.split(), table))"
      ],
      "metadata": {
        "id": "Bl0PpgGfZkTo"
      },
      "execution_count": 105,
      "outputs": []
    },
    {
      "cell_type": "code",
      "source": [
        "def count_columns(title: list) -> int:\n",
        "\treturn len(title[0])"
      ],
      "metadata": {
        "id": "TfC2ATsMZmcV"
      },
      "execution_count": 106,
      "outputs": []
    },
    {
      "cell_type": "code",
      "source": [
        "def count_rows(table: list) -> int:\n",
        "\treturn len(table)"
      ],
      "metadata": {
        "id": "xJrJ4BTtZn8q"
      },
      "execution_count": 107,
      "outputs": []
    },
    {
      "cell_type": "code",
      "source": [
        "def show_table(table: list) -> None:\n",
        "\tfor row in table:\n",
        "\t\tprint(row)\n",
        "\n",
        "\tprint('\\n\\n')"
      ],
      "metadata": {
        "id": "FMCpCRAqZpDU"
      },
      "execution_count": 108,
      "outputs": []
    },
    {
      "cell_type": "code",
      "source": [
        "def show_layers_table(title: list, subtitles: list, values: list) -> None:\n",
        "\tprint(title)\n",
        "\tprint('\\n\\n')\n",
        "\tshow_table(subtitles)\n",
        "\tshow_table(values)"
      ],
      "metadata": {
        "id": "zj4UcQ2oZqH3"
      },
      "execution_count": 109,
      "outputs": []
    },
    {
      "cell_type": "code",
      "source": [
        "def layers(table: list[list[str]]) -> tuple[list[str] | list[list[str]]]:\n",
        "\t\"\"\"\n",
        "\tРазделение данных таблицы на:\n",
        "\t\t- заголовок (основной, является первая строка)\n",
        "\t\t- подзаголовки (начинаются со следущей строки после заголовка)\n",
        "\t\t- данные (начинаются со следущей строки после подзаголовков)\n",
        "\n",
        "    :params table: Полноценная таблица полученная из docx\n",
        "    :type table: list[list[str]]\n",
        "    :return: Разделенная таблица на соот. слои\n",
        "    :return type: tuple[list[str] | list[list[str]]]\n",
        "\t\"\"\"\n",
        "\n",
        "\ttitle: list[str] = [value for value in table[0]]\n",
        "\tsubtitles: list[list[str]] = []\n",
        "\tvalues: list[list[str]] = []\n",
        "\n",
        "\tfor i, row in enumerate(table[1:]):\n",
        "\t\tformat_subtitle: list[str] = ['' if value in title else value for value in row]\n",
        "\t\tif '' in format_subtitle:\n",
        "\t\t\tsubtitles += [format_subtitle]\n",
        "\n",
        "\t\telse:\n",
        "\t\t\tvalues += [format_subtitle]\n",
        "\n",
        "\treturn title, subtitles, values"
      ],
      "metadata": {
        "id": "Kssa0cOJeW6f"
      },
      "execution_count": 110,
      "outputs": []
    },
    {
      "cell_type": "code",
      "source": [
        "def get_intervals(interval: list[list[int]]) -> None:\n",
        "    \"\"\"\n",
        "    Возвращает начало и конец интервалов\n",
        "\n",
        "\n",
        "    :params interval: Интервалы для каждой строки\n",
        "    :type table: list[list[int]]\n",
        "    :return: Корректные интервалы для каждой строки\n",
        "    :return type: None\n",
        "\n",
        "    >>> get_intervals(\n",
        "        [\n",
        "            [1, 2, 3, 4, 7, 8, 9, 10],\n",
        "            [10, 11, 12, 13, 1, 2, 3, 4, 7, 9, 10, 11]\n",
        "        ]\n",
        "    )\n",
        "\n",
        "    [\n",
        "        [[1, 4], [7, 10]],\n",
        "        [[10, 13], [1, 4], [7], [9, 11]]\n",
        "    ]\n",
        "    \"\"\"\n",
        "\n",
        "\t# for i, row in enumerate(interval):\n",
        "\t# \tcurrent: int = interval[i][0]\n",
        "\t# \t_next: int = interval[i][0]\n",
        "\t# \trow_index = []\n",
        "\t# \tfor j in range(1, len(row)):\n",
        "\t# \t\tif index[i][j] == _next + 1:\n",
        "\t# \t\t\t_next: int = interval[i][j]\n",
        "\n",
        "\t# \t\telse:\n",
        "\t# \t\t\tif current == _next:\n",
        "\t# \t\t\t\trow_index += [current]\n",
        "\t# \t\t\telse:\n",
        "\t# \t\t\t\trow_index += [current, _next]\n",
        "\n",
        "\t# \t\t\tcurrent: int = interval[i][j]\n",
        "\t# \t\t\t_next: int = interval[i][j]\n",
        "\n",
        "\t# \tif current == _next:\n",
        "\t# \t\trow_index += [current]\n",
        "\t# \telse:\n",
        "\t# \t\trow_index += [current, _next]\n",
        "\n",
        "\t# \tinterval[i]: list = row_index\n",
        "\n",
        "\n",
        "    intervals: list[list[int]] = [[] for _ in range(len(interval))]\n",
        "    for i, row in enumerate(interval):\n",
        "        index_row: list[int] = []\n",
        "        for j in range(len(row) - 1):\n",
        "            current: int = row[j]\n",
        "            _next: int = row[j + 1]\n",
        "\n",
        "            if _next - current == 1:\n",
        "                if not index_row:\n",
        "                    index_row += [current]\n",
        "\n",
        "            else:\n",
        "                index_row += [current]\n",
        "                intervals[i] += [index_row]\n",
        "                index_row: list = []\n",
        "\n",
        "            if j + 1 == len(row) - 1:\n",
        "                intervals[i] += [index_row + [row[j + 1]]]\n",
        "\n",
        "        interval[i]: list[int] = intervals[i]"
      ],
      "metadata": {
        "id": "CVmbhdKsZtG9"
      },
      "execution_count": 111,
      "outputs": []
    },
    {
      "cell_type": "code",
      "source": [
        "def join_index(subtitles: list[list[str]]) -> list[list[int]]:\n",
        "\t\"\"\"\n",
        "\tПолучаем индексы, какие подзаголовки и данные необходимо объединить, чтобы\n",
        "    соответствовали кол-ву столбцам, т.к. главный заголовок определяет кол-во элементов в строке.\n",
        "    По последней строке подзаголовка определяется объединение значений.\n",
        "\n",
        "    :params subtitles: Подзаголовки\n",
        "    :type subtitles: list[list[str]]\n",
        "    :return: Индексы каждого подзаголовка и значений\n",
        "    :return type: list[list[int]]\n",
        "\t\"\"\"\n",
        "\n",
        "\tindex: list[list[int]] = []\n",
        "\tfor row in subtitles:\n",
        "\t\trow_index: list[int] = []\n",
        "\t\tfor i in range(len(row)):\n",
        "\t\t\tif row[i]:\n",
        "\t\t\t\trow_index += [i]\n",
        "\n",
        "\t\tindex += [row_index]\n",
        "\n",
        "\tget_intervals(index)\n",
        "\treturn index"
      ],
      "metadata": {
        "id": "f6ijLAYRZu9i"
      },
      "execution_count": 112,
      "outputs": []
    },
    {
      "cell_type": "code",
      "source": [
        "def foo(subtitles: list[list[str]], values: list[list[str]]) -> None:\n",
        "    \"\"\"\n",
        "    Передать длину заголовка\n",
        "    создать массив пустых строк\n",
        "    на место нужного индекста вставляем преобразованные данные\n",
        "    \"\"\"\n",
        "\n",
        "    index: list[list[int]] = join_index(subtitles)\n",
        "\n",
        "    for i, subtitle in enumerate(subtitles):\n",
        "        for row_index in index[i]:\n",
        "            row_index[1] += 1\n",
        "            _slice = slice(*row_index)\n",
        "            join_subtitle = subtitle[_slice]\n",
        "            del subtitle[_slice]\n",
        "            subtitle.insert(row_index[0], '|'.join(join_subtitle))\n",
        "            print(subtitle, row_index, join_subtitle)\n",
        "\n",
        "            break\n",
        "\n",
        "    pass\n"
      ],
      "metadata": {
        "id": "cXoCyn8AaFV2"
      },
      "execution_count": 230,
      "outputs": []
    },
    {
      "cell_type": "code",
      "source": [],
      "metadata": {
        "id": "2gVL93ECbiM-"
      },
      "execution_count": 223,
      "outputs": []
    },
    {
      "cell_type": "code",
      "source": [
        "file = open_file(\"table.txt\")\n",
        "table = get_table(file)\n",
        "table"
      ],
      "metadata": {
        "colab": {
          "base_uri": "https://localhost:8080/"
        },
        "id": "TEYZ8DZnZwtH",
        "outputId": "b2f90e89-e50a-4a63-d34d-c3229599b1ce"
      },
      "execution_count": 224,
      "outputs": [
        {
          "output_type": "execute_result",
          "data": {
            "text/plain": [
              "[['Номер', 'Ст1', 'Ст2', 'Ст3', 'Ст4'],\n",
              " ['Номер', 'Ст1', 'ПСт1', 'ПСт2', 'Ст3', 'ПСт3', 'ПСт4', 'ПСт5'],\n",
              " ['1', '1', '2', '3', '4', '6', '7', '8'],\n",
              " ['2', '5', '6', '7', '5', '6', '7', '8'],\n",
              " ['3', '9', '10', '11', '6', '6', '7', '8']]"
            ]
          },
          "metadata": {},
          "execution_count": 224
        }
      ]
    },
    {
      "cell_type": "code",
      "source": [
        "show_table(table)"
      ],
      "metadata": {
        "colab": {
          "base_uri": "https://localhost:8080/"
        },
        "id": "NKY_MLmPZyMx",
        "outputId": "697001a4-aa32-4f3a-8de9-77b7edfb534f"
      },
      "execution_count": 225,
      "outputs": [
        {
          "output_type": "stream",
          "name": "stdout",
          "text": [
            "['Номер', 'Ст1', 'Ст2', 'Ст3', 'Ст4']\n",
            "['Номер', 'Ст1', 'ПСт1', 'ПСт2', 'Ст3', 'ПСт3', 'ПСт4', 'ПСт5']\n",
            "['1', '1', '2', '3', '4', '6', '7', '8']\n",
            "['2', '5', '6', '7', '5', '6', '7', '8']\n",
            "['3', '9', '10', '11', '6', '6', '7', '8']\n",
            "\n",
            "\n",
            "\n"
          ]
        }
      ]
    },
    {
      "cell_type": "code",
      "source": [
        "title, subtitles, values = layers(table)"
      ],
      "metadata": {
        "id": "FTpNlH13Z0Ad"
      },
      "execution_count": 226,
      "outputs": []
    },
    {
      "cell_type": "code",
      "source": [
        "show_layers_table(title, subtitles, values)"
      ],
      "metadata": {
        "colab": {
          "base_uri": "https://localhost:8080/"
        },
        "id": "LPxTAF0BZ1HU",
        "outputId": "ca5738be-eb63-4280-d107-7600a18b1ceb"
      },
      "execution_count": 227,
      "outputs": [
        {
          "output_type": "stream",
          "name": "stdout",
          "text": [
            "['Номер', 'Ст1', 'Ст2', 'Ст3', 'Ст4']\n",
            "\n",
            "\n",
            "\n",
            "['', '', 'ПСт1', 'ПСт2', '', 'ПСт3', 'ПСт4', 'ПСт5']\n",
            "\n",
            "\n",
            "\n",
            "['1', '1', '2', '3', '4', '6', '7', '8']\n",
            "['2', '5', '6', '7', '5', '6', '7', '8']\n",
            "['3', '9', '10', '11', '6', '6', '7', '8']\n",
            "\n",
            "\n",
            "\n"
          ]
        }
      ]
    },
    {
      "cell_type": "code",
      "source": [
        "join_index(subtitles)"
      ],
      "metadata": {
        "colab": {
          "base_uri": "https://localhost:8080/"
        },
        "id": "sYt-5oUNZ2EV",
        "outputId": "70fd3f10-f59d-4940-8860-9ca6092d1faf"
      },
      "execution_count": 228,
      "outputs": [
        {
          "output_type": "execute_result",
          "data": {
            "text/plain": [
              "[[[2, 3], [5, 7]]]"
            ]
          },
          "metadata": {},
          "execution_count": 228
        }
      ]
    },
    {
      "cell_type": "code",
      "source": [
        "foo(subtitles, [])"
      ],
      "metadata": {
        "colab": {
          "base_uri": "https://localhost:8080/"
        },
        "id": "HJVlIwm0Z3R0",
        "outputId": "e44c2681-9871-4474-839e-8f23d145c6c4"
      },
      "execution_count": 229,
      "outputs": [
        {
          "output_type": "stream",
          "name": "stdout",
          "text": [
            "['', '', 'ПСт1|ПСт2', '', 'ПСт3', 'ПСт4', 'ПСт5'] [2, 4] ['ПСт1', 'ПСт2']\n"
          ]
        }
      ]
    },
    {
      "cell_type": "code",
      "source": [],
      "metadata": {
        "id": "OjTkxsGJsRyQ"
      },
      "execution_count": null,
      "outputs": []
    }
  ]
}